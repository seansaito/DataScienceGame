{
 "cells": [
  {
   "cell_type": "code",
   "execution_count": 4,
   "metadata": {
    "collapsed": false
   },
   "outputs": [
    {
     "ename": "ImportError",
     "evalue": "cannot import name __check_build",
     "output_type": "error",
     "traceback": [
      "\u001b[0;31m---------------------------------------------------------------------------\u001b[0m",
      "\u001b[0;31mImportError\u001b[0m                               Traceback (most recent call last)",
      "\u001b[0;32m<ipython-input-4-1173b4675885>\u001b[0m in \u001b[0;36m<module>\u001b[0;34m()\u001b[0m\n\u001b[1;32m      3\u001b[0m \u001b[0;32mimport\u001b[0m \u001b[0mitertools\u001b[0m\u001b[0;34m\u001b[0m\u001b[0m\n\u001b[1;32m      4\u001b[0m \u001b[0;34m\u001b[0m\u001b[0m\n\u001b[0;32m----> 5\u001b[0;31m \u001b[0;32mfrom\u001b[0m \u001b[0msklearn\u001b[0m\u001b[0;34m.\u001b[0m\u001b[0mdatasets\u001b[0m \u001b[0;32mimport\u001b[0m \u001b[0mmake_classification\u001b[0m\u001b[0;34m\u001b[0m\u001b[0m\n\u001b[0m\u001b[1;32m      6\u001b[0m \u001b[0;31m# from sklearn.decomposition import PCA\u001b[0m\u001b[0;34m\u001b[0m\u001b[0;34m\u001b[0m\u001b[0m\n\u001b[1;32m      7\u001b[0m \u001b[0;32mfrom\u001b[0m \u001b[0msklearn\u001b[0m\u001b[0;34m.\u001b[0m\u001b[0msvm\u001b[0m \u001b[0;32mimport\u001b[0m \u001b[0mSVC\u001b[0m\u001b[0;34m\u001b[0m\u001b[0m\n",
      "\u001b[0;32m//anaconda/lib/python2.7/site-packages/sklearn/__init__.py\u001b[0m in \u001b[0;36m<module>\u001b[0;34m()\u001b[0m\n\u001b[1;32m     54\u001b[0m     \u001b[0;31m# process, as it may not be compiled yet\u001b[0m\u001b[0;34m\u001b[0m\u001b[0;34m\u001b[0m\u001b[0m\n\u001b[1;32m     55\u001b[0m \u001b[0;32melse\u001b[0m\u001b[0;34m:\u001b[0m\u001b[0;34m\u001b[0m\u001b[0m\n\u001b[0;32m---> 56\u001b[0;31m     \u001b[0;32mfrom\u001b[0m \u001b[0;34m.\u001b[0m \u001b[0;32mimport\u001b[0m \u001b[0m__check_build\u001b[0m\u001b[0;34m\u001b[0m\u001b[0m\n\u001b[0m\u001b[1;32m     57\u001b[0m     \u001b[0;32mfrom\u001b[0m \u001b[0;34m.\u001b[0m\u001b[0mbase\u001b[0m \u001b[0;32mimport\u001b[0m \u001b[0mclone\u001b[0m\u001b[0;34m\u001b[0m\u001b[0m\n\u001b[1;32m     58\u001b[0m     \u001b[0m__check_build\u001b[0m  \u001b[0;31m# avoid flakes unused variable error\u001b[0m\u001b[0;34m\u001b[0m\u001b[0m\n",
      "\u001b[0;31mImportError\u001b[0m: cannot import name __check_build"
     ]
    }
   ],
   "source": [
    "import numpy as np\n",
    "import pandas as pd\n",
    "import itertools\n",
    "\n",
    "from sklearn.datasets import make_classification\n",
    "# from sklearn.decomposition import PCA\n",
    "from sklearn.svm import SVC\n",
    "\n",
    "from imblearn.under_sampling import RandomUnderSampler\n",
    "from imblearn.under_sampling import NearMiss\n",
    "from imblearn.under_sampling import CondensedNearestNeighbour\n",
    "from imblearn.under_sampling import OneSidedSelection\n",
    "from imblearn.under_sampling import NeighbourhoodCleaningRule\n",
    "from imblearn.under_sampling import TomekLinks\n",
    "from imblearn.under_sampling import ClusterCentroids\n",
    "from imblearn.under_sampling import EditedNearestNeighbours\n",
    "from imblearn.under_sampling import InstanceHardnessThreshold\n",
    "from imblearn.under_sampling import RepeatedEditedNearestNeighbours\n",
    "# from imblearn.under_sampling import AllKNN\n",
    "\n",
    "from imblearn.over_sampling import RandomOverSampler\n",
    "from imblearn.over_sampling import SMOTE\n",
    "\n",
    "from imblearn.combine import SMOTETomek\n",
    "from imblearn.combine import SMOTEENN\n",
    "\n",
    "from imblearn.ensemble import EasyEnsemble\n",
    "from imblearn.ensemble import BalanceCascade\n",
    "\n",
    "# Save a nice dark grey as a variable\n",
    "almost_black = '#262626'"
   ]
  },
  {
   "cell_type": "code",
   "execution_count": 2,
   "metadata": {
    "collapsed": false
   },
   "outputs": [],
   "source": [
    "# Generate some data\n",
    "# x_train_file = \"X_train.csv\"\n",
    "# x_test_file = \"X_test.csv\"\n",
    "# y_train_file = \"y_train.csv\"\n",
    "\n",
    "# x = pd.read_csv(x_train_file)\n",
    "# x_test = pd.read_csv(x_test_file)\n",
    "# y = pd.read_csv(y_train_file)\n",
    "# # We just want the second column\n",
    "# y = y[\"Converted\"]\n",
    "\n",
    "\n",
    "# Custom preprocessing\n",
    "# Get the all the coluymns that are float - ignoring object (string) for now\n",
    "# x = x.loc[:, x.dtypes == float]\n",
    "# x_test = x_test.loc[:, x_test.dtypes == float]\n",
    "\n",
    "# Now for some preprocessing\n",
    "# from sklearn.preprocessing import StandardScaler\n",
    "# from sklearn.preprocessing import Imputer\n",
    "# from sklearn.cross_validation import train_test_split\n",
    "\n",
    "# sc = StandardScaler()\n",
    "# im = Imputer()\n",
    "\n",
    "# x, x_valid, y, y_valid = train_test_split(x, y, test_size=0.8, random_state=1)\n",
    "\n",
    "# x = im.fit_transform(x)\n",
    "# x_test = im.fit_transform(x_test)\n",
    "# x = sc.fit_transform(x)\n",
    "# x_test = sc.fit_transform(x_test)\n",
    "\n",
    "# x = np.array(x)\n",
    "# x_test = np.array(x_test)\n",
    "# y = np.array(y)"
   ]
  },
  {
   "cell_type": "code",
   "execution_count": 3,
   "metadata": {
    "collapsed": true
   },
   "outputs": [],
   "source": [
    "# y = np.array(y)"
   ]
  },
  {
   "cell_type": "code",
   "execution_count": 4,
   "metadata": {
    "collapsed": false
   },
   "outputs": [],
   "source": [
    "# y.shape"
   ]
  },
  {
   "cell_type": "code",
   "execution_count": 5,
   "metadata": {
    "collapsed": false
   },
   "outputs": [],
   "source": [
    "# %%time\n",
    "\n",
    "# # Generate the new dataset using under-sampling method\n",
    "# verbose = False\n",
    "# # 'Random under-sampling'\n",
    "# US = RandomUnderSampler()\n",
    "# usx, usy = US.fit_sample(x, y)\n"
   ]
  },
  {
   "cell_type": "code",
   "execution_count": 6,
   "metadata": {
    "collapsed": false
   },
   "outputs": [],
   "source": [
    "# print usx.shape\n",
    "# print usy.shape"
   ]
  },
  {
   "cell_type": "code",
   "execution_count": 7,
   "metadata": {
    "collapsed": false
   },
   "outputs": [],
   "source": [
    "forty_cols = np.load(\"forty_column_dataset.npz\")"
   ]
  },
  {
   "cell_type": "code",
   "execution_count": 8,
   "metadata": {
    "collapsed": false
   },
   "outputs": [
    {
     "data": {
      "text/plain": [
       "['arr_1', 'arr_0']"
      ]
     },
     "execution_count": 8,
     "metadata": {},
     "output_type": "execute_result"
    }
   ],
   "source": [
    "forty_cols.keys()"
   ]
  },
  {
   "cell_type": "code",
   "execution_count": 9,
   "metadata": {
    "collapsed": false
   },
   "outputs": [],
   "source": [
    "X = pd.read_csv(\"forty_column_dataset.csv\")"
   ]
  },
  {
   "cell_type": "code",
   "execution_count": 10,
   "metadata": {
    "collapsed": false
   },
   "outputs": [
    {
     "data": {
      "text/html": [
       "<div>\n",
       "<table border=\"1\" class=\"dataframe\">\n",
       "  <thead>\n",
       "    <tr style=\"text-align: right;\">\n",
       "      <th></th>\n",
       "      <th>Unnamed: 0</th>\n",
       "      <th>CustomerMD5Key</th>\n",
       "      <th>SCID</th>\n",
       "      <th>FirstDriverMaritalStatus</th>\n",
       "      <th>CarAnnualMileage</th>\n",
       "      <th>CarFuelId</th>\n",
       "      <th>CarUsageId</th>\n",
       "      <th>FirstDriverAge</th>\n",
       "      <th>CarInsuredValue</th>\n",
       "      <th>CarAge</th>\n",
       "      <th>...</th>\n",
       "      <th>vendor_log_sales</th>\n",
       "      <th>age_minus_policy</th>\n",
       "      <th>num_unique_pols</th>\n",
       "      <th>num_total_pols</th>\n",
       "      <th>car_flag_1</th>\n",
       "      <th>car_flag_2</th>\n",
       "      <th>car_flag_3</th>\n",
       "      <th>car_flag_4</th>\n",
       "      <th>car_flag_5</th>\n",
       "      <th>car_flag_6</th>\n",
       "    </tr>\n",
       "  </thead>\n",
       "  <tbody>\n",
       "    <tr>\n",
       "      <th>0</th>\n",
       "      <td>0</td>\n",
       "      <td>0x0af8dd0b86f6bdc5ecc29ee8a587e5a5</td>\n",
       "      <td>554</td>\n",
       "      <td>1.0</td>\n",
       "      <td>4001.0</td>\n",
       "      <td>1.0</td>\n",
       "      <td>1.0</td>\n",
       "      <td>58.0</td>\n",
       "      <td>3001.0</td>\n",
       "      <td>6.0</td>\n",
       "      <td>...</td>\n",
       "      <td>2</td>\n",
       "      <td>49.0</td>\n",
       "      <td>5</td>\n",
       "      <td>34</td>\n",
       "      <td>False</td>\n",
       "      <td>False</td>\n",
       "      <td>False</td>\n",
       "      <td>False</td>\n",
       "      <td>False</td>\n",
       "      <td>False</td>\n",
       "    </tr>\n",
       "    <tr>\n",
       "      <th>1</th>\n",
       "      <td>1</td>\n",
       "      <td>0xc2ab85a1e67787e05612f81b4d2d4b44</td>\n",
       "      <td>259</td>\n",
       "      <td>4.0</td>\n",
       "      <td>4001.0</td>\n",
       "      <td>1.0</td>\n",
       "      <td>4.0</td>\n",
       "      <td>55.0</td>\n",
       "      <td>0.0</td>\n",
       "      <td>14.0</td>\n",
       "      <td>...</td>\n",
       "      <td>2</td>\n",
       "      <td>46.0</td>\n",
       "      <td>5</td>\n",
       "      <td>157</td>\n",
       "      <td>False</td>\n",
       "      <td>False</td>\n",
       "      <td>False</td>\n",
       "      <td>False</td>\n",
       "      <td>False</td>\n",
       "      <td>False</td>\n",
       "    </tr>\n",
       "    <tr>\n",
       "      <th>2</th>\n",
       "      <td>2</td>\n",
       "      <td>0xd355bb50d71da053adb6aa0a2a4ff887</td>\n",
       "      <td>225</td>\n",
       "      <td>1.0</td>\n",
       "      <td>5001.0</td>\n",
       "      <td>1.0</td>\n",
       "      <td>0.0</td>\n",
       "      <td>31.0</td>\n",
       "      <td>1001.0</td>\n",
       "      <td>10.0</td>\n",
       "      <td>...</td>\n",
       "      <td>2</td>\n",
       "      <td>24.0</td>\n",
       "      <td>5</td>\n",
       "      <td>22</td>\n",
       "      <td>False</td>\n",
       "      <td>False</td>\n",
       "      <td>False</td>\n",
       "      <td>False</td>\n",
       "      <td>False</td>\n",
       "      <td>False</td>\n",
       "    </tr>\n",
       "    <tr>\n",
       "      <th>3</th>\n",
       "      <td>3</td>\n",
       "      <td>0x7022e0ce1ea3c8a110ab6a9feba3cef0</td>\n",
       "      <td>551</td>\n",
       "      <td>2.0</td>\n",
       "      <td>5001.0</td>\n",
       "      <td>2.0</td>\n",
       "      <td>4.0</td>\n",
       "      <td>52.0</td>\n",
       "      <td>23001.0</td>\n",
       "      <td>1.0</td>\n",
       "      <td>...</td>\n",
       "      <td>2</td>\n",
       "      <td>45.0</td>\n",
       "      <td>5</td>\n",
       "      <td>18</td>\n",
       "      <td>False</td>\n",
       "      <td>False</td>\n",
       "      <td>False</td>\n",
       "      <td>False</td>\n",
       "      <td>False</td>\n",
       "      <td>False</td>\n",
       "    </tr>\n",
       "    <tr>\n",
       "      <th>4</th>\n",
       "      <td>4</td>\n",
       "      <td>0x3414ea05924ca2421f03d93a1f04af49</td>\n",
       "      <td>170</td>\n",
       "      <td>3.0</td>\n",
       "      <td>5001.0</td>\n",
       "      <td>1.0</td>\n",
       "      <td>1.0</td>\n",
       "      <td>29.0</td>\n",
       "      <td>2001.0</td>\n",
       "      <td>7.0</td>\n",
       "      <td>...</td>\n",
       "      <td>2</td>\n",
       "      <td>19.0</td>\n",
       "      <td>4</td>\n",
       "      <td>48</td>\n",
       "      <td>True</td>\n",
       "      <td>False</td>\n",
       "      <td>True</td>\n",
       "      <td>True</td>\n",
       "      <td>False</td>\n",
       "      <td>True</td>\n",
       "    </tr>\n",
       "  </tbody>\n",
       "</table>\n",
       "<p>5 rows × 41 columns</p>\n",
       "</div>"
      ],
      "text/plain": [
       "   Unnamed: 0                      CustomerMD5Key  SCID  \\\n",
       "0           0  0x0af8dd0b86f6bdc5ecc29ee8a587e5a5   554   \n",
       "1           1  0xc2ab85a1e67787e05612f81b4d2d4b44   259   \n",
       "2           2  0xd355bb50d71da053adb6aa0a2a4ff887   225   \n",
       "3           3  0x7022e0ce1ea3c8a110ab6a9feba3cef0   551   \n",
       "4           4  0x3414ea05924ca2421f03d93a1f04af49   170   \n",
       "\n",
       "   FirstDriverMaritalStatus  CarAnnualMileage  CarFuelId  CarUsageId  \\\n",
       "0                       1.0            4001.0        1.0         1.0   \n",
       "1                       4.0            4001.0        1.0         4.0   \n",
       "2                       1.0            5001.0        1.0         0.0   \n",
       "3                       2.0            5001.0        2.0         4.0   \n",
       "4                       3.0            5001.0        1.0         1.0   \n",
       "\n",
       "   FirstDriverAge  CarInsuredValue  CarAge     ...      vendor_log_sales  \\\n",
       "0            58.0           3001.0     6.0     ...                     2   \n",
       "1            55.0              0.0    14.0     ...                     2   \n",
       "2            31.0           1001.0    10.0     ...                     2   \n",
       "3            52.0          23001.0     1.0     ...                     2   \n",
       "4            29.0           2001.0     7.0     ...                     2   \n",
       "\n",
       "   age_minus_policy  num_unique_pols  num_total_pols  car_flag_1  car_flag_2  \\\n",
       "0              49.0                5              34       False       False   \n",
       "1              46.0                5             157       False       False   \n",
       "2              24.0                5              22       False       False   \n",
       "3              45.0                5              18       False       False   \n",
       "4              19.0                4              48        True       False   \n",
       "\n",
       "   car_flag_3  car_flag_4  car_flag_5  car_flag_6  \n",
       "0       False       False       False       False  \n",
       "1       False       False       False       False  \n",
       "2       False       False       False       False  \n",
       "3       False       False       False       False  \n",
       "4        True        True       False        True  \n",
       "\n",
       "[5 rows x 41 columns]"
      ]
     },
     "execution_count": 10,
     "metadata": {},
     "output_type": "execute_result"
    }
   ],
   "source": [
    "X.head()"
   ]
  },
  {
   "cell_type": "code",
   "execution_count": 11,
   "metadata": {
    "collapsed": false
   },
   "outputs": [
    {
     "data": {
      "text/html": [
       "<div>\n",
       "<table border=\"1\" class=\"dataframe\">\n",
       "  <thead>\n",
       "    <tr style=\"text-align: right;\">\n",
       "      <th></th>\n",
       "      <th>SCID</th>\n",
       "      <th>FirstDriverMaritalStatus</th>\n",
       "      <th>CarAnnualMileage</th>\n",
       "      <th>CarFuelId</th>\n",
       "      <th>CarUsageId</th>\n",
       "      <th>FirstDriverAge</th>\n",
       "      <th>CarInsuredValue</th>\n",
       "      <th>CarAge</th>\n",
       "      <th>FirstDriverDrivingLicenseNumberY</th>\n",
       "      <th>VoluntaryExcess</th>\n",
       "      <th>...</th>\n",
       "      <th>vendor_log_sales</th>\n",
       "      <th>age_minus_policy</th>\n",
       "      <th>num_unique_pols</th>\n",
       "      <th>num_total_pols</th>\n",
       "      <th>car_flag_1</th>\n",
       "      <th>car_flag_2</th>\n",
       "      <th>car_flag_3</th>\n",
       "      <th>car_flag_4</th>\n",
       "      <th>car_flag_5</th>\n",
       "      <th>car_flag_6</th>\n",
       "    </tr>\n",
       "  </thead>\n",
       "  <tbody>\n",
       "    <tr>\n",
       "      <th>0</th>\n",
       "      <td>554</td>\n",
       "      <td>1.0</td>\n",
       "      <td>4001.0</td>\n",
       "      <td>1.0</td>\n",
       "      <td>1.0</td>\n",
       "      <td>58.0</td>\n",
       "      <td>3001.0</td>\n",
       "      <td>6.0</td>\n",
       "      <td>30.0</td>\n",
       "      <td>250.0</td>\n",
       "      <td>...</td>\n",
       "      <td>2</td>\n",
       "      <td>49.0</td>\n",
       "      <td>5</td>\n",
       "      <td>34</td>\n",
       "      <td>False</td>\n",
       "      <td>False</td>\n",
       "      <td>False</td>\n",
       "      <td>False</td>\n",
       "      <td>False</td>\n",
       "      <td>False</td>\n",
       "    </tr>\n",
       "    <tr>\n",
       "      <th>1</th>\n",
       "      <td>259</td>\n",
       "      <td>4.0</td>\n",
       "      <td>4001.0</td>\n",
       "      <td>1.0</td>\n",
       "      <td>4.0</td>\n",
       "      <td>55.0</td>\n",
       "      <td>0.0</td>\n",
       "      <td>14.0</td>\n",
       "      <td>30.0</td>\n",
       "      <td>200.0</td>\n",
       "      <td>...</td>\n",
       "      <td>2</td>\n",
       "      <td>46.0</td>\n",
       "      <td>5</td>\n",
       "      <td>157</td>\n",
       "      <td>False</td>\n",
       "      <td>False</td>\n",
       "      <td>False</td>\n",
       "      <td>False</td>\n",
       "      <td>False</td>\n",
       "      <td>False</td>\n",
       "    </tr>\n",
       "    <tr>\n",
       "      <th>2</th>\n",
       "      <td>225</td>\n",
       "      <td>1.0</td>\n",
       "      <td>5001.0</td>\n",
       "      <td>1.0</td>\n",
       "      <td>0.0</td>\n",
       "      <td>31.0</td>\n",
       "      <td>1001.0</td>\n",
       "      <td>10.0</td>\n",
       "      <td>8.0</td>\n",
       "      <td>250.0</td>\n",
       "      <td>...</td>\n",
       "      <td>2</td>\n",
       "      <td>24.0</td>\n",
       "      <td>5</td>\n",
       "      <td>22</td>\n",
       "      <td>False</td>\n",
       "      <td>False</td>\n",
       "      <td>False</td>\n",
       "      <td>False</td>\n",
       "      <td>False</td>\n",
       "      <td>False</td>\n",
       "    </tr>\n",
       "    <tr>\n",
       "      <th>3</th>\n",
       "      <td>551</td>\n",
       "      <td>2.0</td>\n",
       "      <td>5001.0</td>\n",
       "      <td>2.0</td>\n",
       "      <td>4.0</td>\n",
       "      <td>52.0</td>\n",
       "      <td>23001.0</td>\n",
       "      <td>1.0</td>\n",
       "      <td>8.0</td>\n",
       "      <td>250.0</td>\n",
       "      <td>...</td>\n",
       "      <td>2</td>\n",
       "      <td>45.0</td>\n",
       "      <td>5</td>\n",
       "      <td>18</td>\n",
       "      <td>False</td>\n",
       "      <td>False</td>\n",
       "      <td>False</td>\n",
       "      <td>False</td>\n",
       "      <td>False</td>\n",
       "      <td>False</td>\n",
       "    </tr>\n",
       "    <tr>\n",
       "      <th>4</th>\n",
       "      <td>170</td>\n",
       "      <td>3.0</td>\n",
       "      <td>5001.0</td>\n",
       "      <td>1.0</td>\n",
       "      <td>1.0</td>\n",
       "      <td>29.0</td>\n",
       "      <td>2001.0</td>\n",
       "      <td>7.0</td>\n",
       "      <td>11.0</td>\n",
       "      <td>250.0</td>\n",
       "      <td>...</td>\n",
       "      <td>2</td>\n",
       "      <td>19.0</td>\n",
       "      <td>4</td>\n",
       "      <td>48</td>\n",
       "      <td>True</td>\n",
       "      <td>False</td>\n",
       "      <td>True</td>\n",
       "      <td>True</td>\n",
       "      <td>False</td>\n",
       "      <td>True</td>\n",
       "    </tr>\n",
       "  </tbody>\n",
       "</table>\n",
       "<p>5 rows × 39 columns</p>\n",
       "</div>"
      ],
      "text/plain": [
       "   SCID  FirstDriverMaritalStatus  CarAnnualMileage  CarFuelId  CarUsageId  \\\n",
       "0   554                       1.0            4001.0        1.0         1.0   \n",
       "1   259                       4.0            4001.0        1.0         4.0   \n",
       "2   225                       1.0            5001.0        1.0         0.0   \n",
       "3   551                       2.0            5001.0        2.0         4.0   \n",
       "4   170                       3.0            5001.0        1.0         1.0   \n",
       "\n",
       "   FirstDriverAge  CarInsuredValue  CarAge  FirstDriverDrivingLicenseNumberY  \\\n",
       "0            58.0           3001.0     6.0                              30.0   \n",
       "1            55.0              0.0    14.0                              30.0   \n",
       "2            31.0           1001.0    10.0                               8.0   \n",
       "3            52.0          23001.0     1.0                               8.0   \n",
       "4            29.0           2001.0     7.0                              11.0   \n",
       "\n",
       "   VoluntaryExcess     ...      vendor_log_sales  age_minus_policy  \\\n",
       "0            250.0     ...                     2              49.0   \n",
       "1            200.0     ...                     2              46.0   \n",
       "2            250.0     ...                     2              24.0   \n",
       "3            250.0     ...                     2              45.0   \n",
       "4            250.0     ...                     2              19.0   \n",
       "\n",
       "   num_unique_pols  num_total_pols  car_flag_1  car_flag_2  car_flag_3  \\\n",
       "0                5              34       False       False       False   \n",
       "1                5             157       False       False       False   \n",
       "2                5              22       False       False       False   \n",
       "3                5              18       False       False       False   \n",
       "4                4              48        True       False        True   \n",
       "\n",
       "   car_flag_4  car_flag_5  car_flag_6  \n",
       "0       False       False       False  \n",
       "1       False       False       False  \n",
       "2       False       False       False  \n",
       "3       False       False       False  \n",
       "4        True       False        True  \n",
       "\n",
       "[5 rows x 39 columns]"
      ]
     },
     "execution_count": 11,
     "metadata": {},
     "output_type": "execute_result"
    }
   ],
   "source": [
    "X.loc[:, \"SCID\":].head()"
   ]
  },
  {
   "cell_type": "code",
   "execution_count": 16,
   "metadata": {
    "collapsed": false
   },
   "outputs": [],
   "source": [
    "X_csv = X.loc[:, \"SCID\":]\n",
    "X_csv = X_csv.drop(\"labels\", 1)"
   ]
  },
  {
   "cell_type": "code",
   "execution_count": 17,
   "metadata": {
    "collapsed": false
   },
   "outputs": [
    {
     "data": {
      "text/plain": [
       "Index([u'SCID', u'FirstDriverMaritalStatus', u'CarAnnualMileage', u'CarFuelId',\n",
       "       u'CarUsageId', u'FirstDriverAge', u'CarInsuredValue', u'CarAge',\n",
       "       u'FirstDriverDrivingLicenseNumberY', u'VoluntaryExcess',\n",
       "       u'CarParkingTypeId', u'PolicyHolderNoClaimDiscountYears',\n",
       "       u'FirstDriverDrivingLicenceType', u'CoverIsNoClaimDiscountSelected',\n",
       "       u'CarDrivingEntitlement', u'CarTransmissionId', u'SocioDemographicId',\n",
       "       u'PolicyHolderResidencyArea', u'AllDriversNbConvictions',\n",
       "       u'RatedDriverNumber', u'IsPolicyholderAHomeowner', u'CarMakeId',\n",
       "       u'DaysSinceCarPurchase', u'NameOfPolicyProduct', u'AffinityCodeId',\n",
       "       u'voluntary_payment_per_value', u'annual_milage_per_age',\n",
       "       u'vendor_success_rate', u'vendor_log_sales', u'age_minus_policy',\n",
       "       u'num_unique_pols', u'num_total_pols', u'car_flag_1', u'car_flag_2',\n",
       "       u'car_flag_3', u'car_flag_4', u'car_flag_5', u'car_flag_6'],\n",
       "      dtype='object')"
      ]
     },
     "execution_count": 17,
     "metadata": {},
     "output_type": "execute_result"
    }
   ],
   "source": [
    "X_csv.columns"
   ]
  },
  {
   "cell_type": "code",
   "execution_count": 36,
   "metadata": {
    "collapsed": false
   },
   "outputs": [],
   "source": [
    "# Generate a random sample of column names\n",
    "custom = list(X_csv.columns[len(X_csv.columns) - 13:])\n",
    "default = list(X_csv.columns[:len(X_csv.columns) - 13])\n",
    "\n",
    "random_cols = list(np.random.choice(default, 7))\n",
    "\n",
    "random_cols = random_cols + custom"
   ]
  },
  {
   "cell_type": "code",
   "execution_count": 37,
   "metadata": {
    "collapsed": true
   },
   "outputs": [],
   "source": [
    "X_csv = X_csv[random_cols]"
   ]
  },
  {
   "cell_type": "code",
   "execution_count": 38,
   "metadata": {
    "collapsed": false
   },
   "outputs": [
    {
     "data": {
      "text/html": [
       "<div>\n",
       "<table border=\"1\" class=\"dataframe\">\n",
       "  <thead>\n",
       "    <tr style=\"text-align: right;\">\n",
       "      <th></th>\n",
       "      <th>CarInsuredValue</th>\n",
       "      <th>AffinityCodeId</th>\n",
       "      <th>FirstDriverDrivingLicenseNumberY</th>\n",
       "      <th>FirstDriverDrivingLicenseNumberY</th>\n",
       "      <th>CarAge</th>\n",
       "      <th>CarAge</th>\n",
       "      <th>CarAge</th>\n",
       "      <th>voluntary_payment_per_value</th>\n",
       "      <th>annual_milage_per_age</th>\n",
       "      <th>vendor_success_rate</th>\n",
       "      <th>vendor_log_sales</th>\n",
       "      <th>age_minus_policy</th>\n",
       "      <th>num_unique_pols</th>\n",
       "      <th>num_total_pols</th>\n",
       "      <th>car_flag_1</th>\n",
       "      <th>car_flag_2</th>\n",
       "      <th>car_flag_3</th>\n",
       "      <th>car_flag_4</th>\n",
       "      <th>car_flag_5</th>\n",
       "      <th>car_flag_6</th>\n",
       "    </tr>\n",
       "  </thead>\n",
       "  <tbody>\n",
       "    <tr>\n",
       "      <th>0</th>\n",
       "      <td>3001.0</td>\n",
       "      <td>0.0</td>\n",
       "      <td>30.0</td>\n",
       "      <td>30.0</td>\n",
       "      <td>6.0</td>\n",
       "      <td>6.0</td>\n",
       "      <td>6.0</td>\n",
       "      <td>0.083278</td>\n",
       "      <td>500.125000</td>\n",
       "      <td>0.006936</td>\n",
       "      <td>2</td>\n",
       "      <td>49.0</td>\n",
       "      <td>5</td>\n",
       "      <td>34</td>\n",
       "      <td>False</td>\n",
       "      <td>False</td>\n",
       "      <td>False</td>\n",
       "      <td>False</td>\n",
       "      <td>False</td>\n",
       "      <td>False</td>\n",
       "    </tr>\n",
       "    <tr>\n",
       "      <th>1</th>\n",
       "      <td>0.0</td>\n",
       "      <td>63.0</td>\n",
       "      <td>30.0</td>\n",
       "      <td>30.0</td>\n",
       "      <td>14.0</td>\n",
       "      <td>14.0</td>\n",
       "      <td>14.0</td>\n",
       "      <td>200.000000</td>\n",
       "      <td>250.062500</td>\n",
       "      <td>0.001431</td>\n",
       "      <td>2</td>\n",
       "      <td>46.0</td>\n",
       "      <td>5</td>\n",
       "      <td>157</td>\n",
       "      <td>False</td>\n",
       "      <td>False</td>\n",
       "      <td>False</td>\n",
       "      <td>False</td>\n",
       "      <td>False</td>\n",
       "      <td>False</td>\n",
       "    </tr>\n",
       "    <tr>\n",
       "      <th>2</th>\n",
       "      <td>1001.0</td>\n",
       "      <td>39.0</td>\n",
       "      <td>8.0</td>\n",
       "      <td>8.0</td>\n",
       "      <td>10.0</td>\n",
       "      <td>10.0</td>\n",
       "      <td>10.0</td>\n",
       "      <td>0.249501</td>\n",
       "      <td>416.750000</td>\n",
       "      <td>0.004255</td>\n",
       "      <td>2</td>\n",
       "      <td>24.0</td>\n",
       "      <td>5</td>\n",
       "      <td>22</td>\n",
       "      <td>False</td>\n",
       "      <td>False</td>\n",
       "      <td>False</td>\n",
       "      <td>False</td>\n",
       "      <td>False</td>\n",
       "      <td>False</td>\n",
       "    </tr>\n",
       "    <tr>\n",
       "      <th>3</th>\n",
       "      <td>23001.0</td>\n",
       "      <td>0.0</td>\n",
       "      <td>8.0</td>\n",
       "      <td>8.0</td>\n",
       "      <td>1.0</td>\n",
       "      <td>1.0</td>\n",
       "      <td>1.0</td>\n",
       "      <td>0.010869</td>\n",
       "      <td>1667.000000</td>\n",
       "      <td>0.006936</td>\n",
       "      <td>2</td>\n",
       "      <td>45.0</td>\n",
       "      <td>5</td>\n",
       "      <td>18</td>\n",
       "      <td>False</td>\n",
       "      <td>False</td>\n",
       "      <td>False</td>\n",
       "      <td>False</td>\n",
       "      <td>False</td>\n",
       "      <td>False</td>\n",
       "    </tr>\n",
       "    <tr>\n",
       "      <th>4</th>\n",
       "      <td>2001.0</td>\n",
       "      <td>31.0</td>\n",
       "      <td>11.0</td>\n",
       "      <td>11.0</td>\n",
       "      <td>7.0</td>\n",
       "      <td>7.0</td>\n",
       "      <td>7.0</td>\n",
       "      <td>0.124875</td>\n",
       "      <td>555.666667</td>\n",
       "      <td>0.000767</td>\n",
       "      <td>2</td>\n",
       "      <td>19.0</td>\n",
       "      <td>4</td>\n",
       "      <td>48</td>\n",
       "      <td>True</td>\n",
       "      <td>False</td>\n",
       "      <td>True</td>\n",
       "      <td>True</td>\n",
       "      <td>False</td>\n",
       "      <td>True</td>\n",
       "    </tr>\n",
       "  </tbody>\n",
       "</table>\n",
       "</div>"
      ],
      "text/plain": [
       "   CarInsuredValue  AffinityCodeId  FirstDriverDrivingLicenseNumberY  \\\n",
       "0           3001.0             0.0                              30.0   \n",
       "1              0.0            63.0                              30.0   \n",
       "2           1001.0            39.0                               8.0   \n",
       "3          23001.0             0.0                               8.0   \n",
       "4           2001.0            31.0                              11.0   \n",
       "\n",
       "   FirstDriverDrivingLicenseNumberY  CarAge  CarAge  CarAge  \\\n",
       "0                              30.0     6.0     6.0     6.0   \n",
       "1                              30.0    14.0    14.0    14.0   \n",
       "2                               8.0    10.0    10.0    10.0   \n",
       "3                               8.0     1.0     1.0     1.0   \n",
       "4                              11.0     7.0     7.0     7.0   \n",
       "\n",
       "   voluntary_payment_per_value  annual_milage_per_age  vendor_success_rate  \\\n",
       "0                     0.083278             500.125000             0.006936   \n",
       "1                   200.000000             250.062500             0.001431   \n",
       "2                     0.249501             416.750000             0.004255   \n",
       "3                     0.010869            1667.000000             0.006936   \n",
       "4                     0.124875             555.666667             0.000767   \n",
       "\n",
       "   vendor_log_sales  age_minus_policy  num_unique_pols  num_total_pols  \\\n",
       "0                 2              49.0                5              34   \n",
       "1                 2              46.0                5             157   \n",
       "2                 2              24.0                5              22   \n",
       "3                 2              45.0                5              18   \n",
       "4                 2              19.0                4              48   \n",
       "\n",
       "  car_flag_1 car_flag_2 car_flag_3 car_flag_4 car_flag_5 car_flag_6  \n",
       "0      False      False      False      False      False      False  \n",
       "1      False      False      False      False      False      False  \n",
       "2      False      False      False      False      False      False  \n",
       "3      False      False      False      False      False      False  \n",
       "4       True      False       True       True      False       True  "
      ]
     },
     "execution_count": 38,
     "metadata": {},
     "output_type": "execute_result"
    }
   ],
   "source": [
    "X_csv.head()"
   ]
  },
  {
   "cell_type": "code",
   "execution_count": 39,
   "metadata": {
    "collapsed": true
   },
   "outputs": [],
   "source": [
    "X = np.array(X_csv)"
   ]
  },
  {
   "cell_type": "code",
   "execution_count": 22,
   "metadata": {
    "collapsed": true
   },
   "outputs": [],
   "source": [
    "y = forty_cols[\"arr_1\"]"
   ]
  },
  {
   "cell_type": "code",
   "execution_count": 23,
   "metadata": {
    "collapsed": false
   },
   "outputs": [
    {
     "name": "stdout",
     "output_type": "stream",
     "text": [
      "(2911270, 39)\n",
      "(2911270,)\n"
     ]
    }
   ],
   "source": [
    "print X.shape\n",
    "print y.shape"
   ]
  },
  {
   "cell_type": "code",
   "execution_count": 24,
   "metadata": {
    "collapsed": false
   },
   "outputs": [],
   "source": [
    "from sklearn.cross_validation import train_test_split\n",
    "\n",
    "X_train, X_valid, y_train, y_valid = train_test_split(X, y, test_size=0.2, random_state=1)"
   ]
  },
  {
   "cell_type": "code",
   "execution_count": 25,
   "metadata": {
    "collapsed": true
   },
   "outputs": [],
   "source": [
    "X_y_pair = (X_train, y_train)"
   ]
  },
  {
   "cell_type": "code",
   "execution_count": 26,
   "metadata": {
    "collapsed": false
   },
   "outputs": [],
   "source": [
    "# # Now undersample the data 10000 times\n",
    "\n",
    "# num_undersamples = 10000\n",
    "\n",
    "# x_samples = []\n",
    "# y_samples = []\n",
    "\n",
    "# from multiprocessing import Pool\n",
    "\n",
    "# def random_sample(pair):\n",
    "#     x = pair[0]\n",
    "#     y = pair[1]\n",
    "#     US = RandomUnderSampler()\n",
    "#     usx, usy = US.fit_sample(x, y)\n",
    "#     return (usx, usy)\n",
    "\n",
    "# p = Pool(10)\n",
    "# undersamples = p.map(random_sample, [X_y_pair for i in range(num_undersamples)])"
   ]
  },
  {
   "cell_type": "code",
   "execution_count": 27,
   "metadata": {
    "collapsed": false
   },
   "outputs": [
    {
     "ename": "KeyboardInterrupt",
     "evalue": "",
     "output_type": "error",
     "traceback": [
      "\u001b[0;31m---------------------------------------------------------------------------\u001b[0m",
      "\u001b[0;31mKeyboardInterrupt\u001b[0m                         Traceback (most recent call last)",
      "\u001b[0;32m<ipython-input-27-ea15d2438783>\u001b[0m in \u001b[0;36m<module>\u001b[0;34m()\u001b[0m\n\u001b[1;32m      5\u001b[0m \u001b[0;32mfor\u001b[0m \u001b[0mi\u001b[0m \u001b[0;32min\u001b[0m \u001b[0mrange\u001b[0m\u001b[0;34m(\u001b[0m\u001b[0mnum_undersamples\u001b[0m\u001b[0;34m)\u001b[0m\u001b[0;34m:\u001b[0m\u001b[0;34m\u001b[0m\u001b[0m\n\u001b[1;32m      6\u001b[0m     \u001b[0mUS\u001b[0m \u001b[0;34m=\u001b[0m \u001b[0mRandomUnderSampler\u001b[0m\u001b[0;34m(\u001b[0m\u001b[0;34m)\u001b[0m\u001b[0;34m\u001b[0m\u001b[0m\n\u001b[0;32m----> 7\u001b[0;31m     \u001b[0musx\u001b[0m\u001b[0;34m,\u001b[0m \u001b[0musy\u001b[0m \u001b[0;34m=\u001b[0m \u001b[0mUS\u001b[0m\u001b[0;34m.\u001b[0m\u001b[0mfit_sample\u001b[0m\u001b[0;34m(\u001b[0m\u001b[0mX_train\u001b[0m\u001b[0;34m,\u001b[0m \u001b[0my_train\u001b[0m\u001b[0;34m)\u001b[0m\u001b[0;34m\u001b[0m\u001b[0m\n\u001b[0m\u001b[1;32m      8\u001b[0m     \u001b[0mX_samples\u001b[0m\u001b[0;34m.\u001b[0m\u001b[0mappend\u001b[0m\u001b[0;34m(\u001b[0m\u001b[0musx\u001b[0m\u001b[0;34m)\u001b[0m\u001b[0;34m\u001b[0m\u001b[0m\n\u001b[1;32m      9\u001b[0m     \u001b[0my_samples\u001b[0m\u001b[0;34m.\u001b[0m\u001b[0mappend\u001b[0m\u001b[0;34m(\u001b[0m\u001b[0musy\u001b[0m\u001b[0;34m)\u001b[0m\u001b[0;34m\u001b[0m\u001b[0m\n",
      "\u001b[0;32m/Users/saito/anaconda/lib/python2.7/site-packages/imblearn/base.pyc\u001b[0m in \u001b[0;36mfit_sample\u001b[0;34m(self, X, y)\u001b[0m\n\u001b[1;32m    176\u001b[0m         \"\"\"\n\u001b[1;32m    177\u001b[0m \u001b[0;34m\u001b[0m\u001b[0m\n\u001b[0;32m--> 178\u001b[0;31m         \u001b[0;32mreturn\u001b[0m \u001b[0mself\u001b[0m\u001b[0;34m.\u001b[0m\u001b[0mfit\u001b[0m\u001b[0;34m(\u001b[0m\u001b[0mX\u001b[0m\u001b[0;34m,\u001b[0m \u001b[0my\u001b[0m\u001b[0;34m)\u001b[0m\u001b[0;34m.\u001b[0m\u001b[0msample\u001b[0m\u001b[0;34m(\u001b[0m\u001b[0mX\u001b[0m\u001b[0;34m,\u001b[0m \u001b[0my\u001b[0m\u001b[0;34m)\u001b[0m\u001b[0;34m\u001b[0m\u001b[0m\n\u001b[0m\u001b[1;32m    179\u001b[0m \u001b[0;34m\u001b[0m\u001b[0m\n\u001b[1;32m    180\u001b[0m     \u001b[0;32mdef\u001b[0m \u001b[0m_validate_ratio\u001b[0m\u001b[0;34m(\u001b[0m\u001b[0mself\u001b[0m\u001b[0;34m)\u001b[0m\u001b[0;34m:\u001b[0m\u001b[0;34m\u001b[0m\u001b[0m\n",
      "\u001b[0;32m/Users/saito/anaconda/lib/python2.7/site-packages/imblearn/base.pyc\u001b[0m in \u001b[0;36msample\u001b[0;34m(self, X, y)\u001b[0m\n\u001b[1;32m    138\u001b[0m \u001b[0;34m\u001b[0m\u001b[0m\n\u001b[1;32m    139\u001b[0m         \u001b[0;31m# Check the consistency of X and y\u001b[0m\u001b[0;34m\u001b[0m\u001b[0;34m\u001b[0m\u001b[0m\n\u001b[0;32m--> 140\u001b[0;31m         \u001b[0mX\u001b[0m\u001b[0;34m,\u001b[0m \u001b[0my\u001b[0m \u001b[0;34m=\u001b[0m \u001b[0mcheck_X_y\u001b[0m\u001b[0;34m(\u001b[0m\u001b[0mX\u001b[0m\u001b[0;34m,\u001b[0m \u001b[0my\u001b[0m\u001b[0;34m)\u001b[0m\u001b[0;34m\u001b[0m\u001b[0m\n\u001b[0m\u001b[1;32m    141\u001b[0m \u001b[0;34m\u001b[0m\u001b[0m\n\u001b[1;32m    142\u001b[0m         \u001b[0;31m# Check that the data have been fitted\u001b[0m\u001b[0;34m\u001b[0m\u001b[0;34m\u001b[0m\u001b[0m\n",
      "\u001b[0;32m/Users/saito/anaconda/lib/python2.7/site-packages/sklearn/utils/validation.pyc\u001b[0m in \u001b[0;36mcheck_X_y\u001b[0;34m(X, y, accept_sparse, dtype, order, copy, force_all_finite, ensure_2d, allow_nd, multi_output, ensure_min_samples, ensure_min_features, y_numeric, warn_on_dtype, estimator)\u001b[0m\n\u001b[1;32m    508\u001b[0m     X = check_array(X, accept_sparse, dtype, order, copy, force_all_finite,\n\u001b[1;32m    509\u001b[0m                     \u001b[0mensure_2d\u001b[0m\u001b[0;34m,\u001b[0m \u001b[0mallow_nd\u001b[0m\u001b[0;34m,\u001b[0m \u001b[0mensure_min_samples\u001b[0m\u001b[0;34m,\u001b[0m\u001b[0;34m\u001b[0m\u001b[0m\n\u001b[0;32m--> 510\u001b[0;31m                     ensure_min_features, warn_on_dtype, estimator)\n\u001b[0m\u001b[1;32m    511\u001b[0m     \u001b[0;32mif\u001b[0m \u001b[0mmulti_output\u001b[0m\u001b[0;34m:\u001b[0m\u001b[0;34m\u001b[0m\u001b[0m\n\u001b[1;32m    512\u001b[0m         y = check_array(y, 'csr', force_all_finite=True, ensure_2d=False,\n",
      "\u001b[0;32m/Users/saito/anaconda/lib/python2.7/site-packages/sklearn/utils/validation.pyc\u001b[0m in \u001b[0;36mcheck_array\u001b[0;34m(array, accept_sparse, dtype, order, copy, force_all_finite, ensure_2d, allow_nd, ensure_min_samples, ensure_min_features, warn_on_dtype, estimator)\u001b[0m\n\u001b[1;32m    371\u001b[0m                                       force_all_finite)\n\u001b[1;32m    372\u001b[0m     \u001b[0;32melse\u001b[0m\u001b[0;34m:\u001b[0m\u001b[0;34m\u001b[0m\u001b[0m\n\u001b[0;32m--> 373\u001b[0;31m         \u001b[0marray\u001b[0m \u001b[0;34m=\u001b[0m \u001b[0mnp\u001b[0m\u001b[0;34m.\u001b[0m\u001b[0marray\u001b[0m\u001b[0;34m(\u001b[0m\u001b[0marray\u001b[0m\u001b[0;34m,\u001b[0m \u001b[0mdtype\u001b[0m\u001b[0;34m=\u001b[0m\u001b[0mdtype\u001b[0m\u001b[0;34m,\u001b[0m \u001b[0morder\u001b[0m\u001b[0;34m=\u001b[0m\u001b[0morder\u001b[0m\u001b[0;34m,\u001b[0m \u001b[0mcopy\u001b[0m\u001b[0;34m=\u001b[0m\u001b[0mcopy\u001b[0m\u001b[0;34m)\u001b[0m\u001b[0;34m\u001b[0m\u001b[0m\n\u001b[0m\u001b[1;32m    374\u001b[0m \u001b[0;34m\u001b[0m\u001b[0m\n\u001b[1;32m    375\u001b[0m         \u001b[0;32mif\u001b[0m \u001b[0mensure_2d\u001b[0m\u001b[0;34m:\u001b[0m\u001b[0;34m\u001b[0m\u001b[0m\n",
      "\u001b[0;31mKeyboardInterrupt\u001b[0m: "
     ]
    }
   ],
   "source": [
    "X_samples, y_samples = [], []\n",
    "\n",
    "num_undersamples = 500\n",
    "\n",
    "for i in range(num_undersamples):\n",
    "    US = RandomUnderSampler()\n",
    "    usx, usy = US.fit_sample(X_train, y_train)\n",
    "    X_samples.append(usx)\n",
    "    y_samples.append(usy)"
   ]
  },
  {
   "cell_type": "code",
   "execution_count": null,
   "metadata": {
    "collapsed": true
   },
   "outputs": [],
   "source": [
    "# Save the files\n",
    "\n",
    "np.savez(\"X_train.npz\", *X_samples)\n",
    "np.savez(\"y_train.npz\", *y_samples)"
   ]
  }
 ],
 "metadata": {
  "kernelspec": {
   "display_name": "Python 2",
   "language": "python",
   "name": "python2"
  },
  "language_info": {
   "codemirror_mode": {
    "name": "ipython",
    "version": 2
   },
   "file_extension": ".py",
   "mimetype": "text/x-python",
   "name": "python",
   "nbconvert_exporter": "python",
   "pygments_lexer": "ipython2",
   "version": "2.7.11"
  }
 },
 "nbformat": 4,
 "nbformat_minor": 0
}
