{
 "cells": [
  {
   "cell_type": "code",
   "execution_count": 35,
   "metadata": {
    "collapsed": true
   },
   "outputs": [],
   "source": [
    "import numpy as np\n",
    "import pandas as pd\n",
    "import itertools\n",
    "\n",
    "from sklearn.datasets import make_classification\n",
    "# from sklearn.decomposition import PCA\n",
    "from sklearn.svm import SVC\n",
    "\n",
    "from imblearn.under_sampling import RandomUnderSampler\n",
    "from imblearn.under_sampling import NearMiss\n",
    "from imblearn.under_sampling import CondensedNearestNeighbour\n",
    "from imblearn.under_sampling import OneSidedSelection\n",
    "from imblearn.under_sampling import NeighbourhoodCleaningRule\n",
    "from imblearn.under_sampling import TomekLinks\n",
    "from imblearn.under_sampling import ClusterCentroids\n",
    "from imblearn.under_sampling import EditedNearestNeighbours\n",
    "from imblearn.under_sampling import InstanceHardnessThreshold\n",
    "from imblearn.under_sampling import RepeatedEditedNearestNeighbours\n",
    "# from imblearn.under_sampling import AllKNN\n",
    "\n",
    "from imblearn.over_sampling import RandomOverSampler\n",
    "from imblearn.over_sampling import SMOTE\n",
    "\n",
    "from imblearn.combine import SMOTETomek\n",
    "from imblearn.combine import SMOTEENN\n",
    "\n",
    "from imblearn.ensemble import EasyEnsemble\n",
    "from imblearn.ensemble import BalanceCascade\n",
    "\n",
    "# Save a nice dark grey as a variable\n",
    "almost_black = '#262626'"
   ]
  },
  {
   "cell_type": "code",
   "execution_count": 36,
   "metadata": {
    "collapsed": false
   },
   "outputs": [],
   "source": [
    "# Generate some data\n",
    "# x_train_file = \"X_train.csv\"\n",
    "# x_test_file = \"X_test.csv\"\n",
    "# y_train_file = \"y_train.csv\"\n",
    "\n",
    "# x = pd.read_csv(x_train_file)\n",
    "# x_test = pd.read_csv(x_test_file)\n",
    "# y = pd.read_csv(y_train_file)\n",
    "# # We just want the second column\n",
    "# y = y[\"Converted\"]\n",
    "\n",
    "\n",
    "# Custom preprocessing\n",
    "# Get the all the coluymns that are float - ignoring object (string) for now\n",
    "# x = x.loc[:, x.dtypes == float]\n",
    "# x_test = x_test.loc[:, x_test.dtypes == float]\n",
    "\n",
    "# Now for some preprocessing\n",
    "# from sklearn.preprocessing import StandardScaler\n",
    "# from sklearn.preprocessing import Imputer\n",
    "# from sklearn.cross_validation import train_test_split\n",
    "\n",
    "# sc = StandardScaler()\n",
    "# im = Imputer()\n",
    "\n",
    "# x, x_valid, y, y_valid = train_test_split(x, y, test_size=0.8, random_state=1)\n",
    "\n",
    "# x = im.fit_transform(x)\n",
    "# x_test = im.fit_transform(x_test)\n",
    "# x = sc.fit_transform(x)\n",
    "# x_test = sc.fit_transform(x_test)\n",
    "\n",
    "# x = np.array(x)\n",
    "# x_test = np.array(x_test)\n",
    "# y = np.array(y)"
   ]
  },
  {
   "cell_type": "code",
   "execution_count": 37,
   "metadata": {
    "collapsed": true
   },
   "outputs": [],
   "source": [
    "# y = np.array(y)"
   ]
  },
  {
   "cell_type": "code",
   "execution_count": 38,
   "metadata": {
    "collapsed": false
   },
   "outputs": [],
   "source": [
    "# y.shape"
   ]
  },
  {
   "cell_type": "code",
   "execution_count": 39,
   "metadata": {
    "collapsed": false
   },
   "outputs": [],
   "source": [
    "# %%time\n",
    "\n",
    "# # Generate the new dataset using under-sampling method\n",
    "# verbose = False\n",
    "# # 'Random under-sampling'\n",
    "# US = RandomUnderSampler()\n",
    "# usx, usy = US.fit_sample(x, y)\n"
   ]
  },
  {
   "cell_type": "code",
   "execution_count": 40,
   "metadata": {
    "collapsed": false
   },
   "outputs": [],
   "source": [
    "# print usx.shape\n",
    "# print usy.shape"
   ]
  },
  {
   "cell_type": "code",
   "execution_count": 41,
   "metadata": {
    "collapsed": false
   },
   "outputs": [],
   "source": [
    "forty_cols = np.load(\"forty_column_dataset.npz\")"
   ]
  },
  {
   "cell_type": "code",
   "execution_count": 42,
   "metadata": {
    "collapsed": false
   },
   "outputs": [
    {
     "data": {
      "text/plain": [
       "['arr_1', 'arr_0']"
      ]
     },
     "execution_count": 42,
     "metadata": {},
     "output_type": "execute_result"
    }
   ],
   "source": [
    "forty_cols.keys()"
   ]
  },
  {
   "cell_type": "code",
   "execution_count": 43,
   "metadata": {
    "collapsed": false
   },
   "outputs": [],
   "source": [
    "X = pd.read_csv(\"forty_column_dataset.csv\")"
   ]
  },
  {
   "cell_type": "code",
   "execution_count": 44,
   "metadata": {
    "collapsed": false
   },
   "outputs": [
    {
     "data": {
      "text/html": [
       "<div>\n",
       "<table border=\"1\" class=\"dataframe\">\n",
       "  <thead>\n",
       "    <tr style=\"text-align: right;\">\n",
       "      <th></th>\n",
       "      <th>Unnamed: 0</th>\n",
       "      <th>CustomerMD5Key</th>\n",
       "      <th>SCID</th>\n",
       "      <th>FirstDriverMaritalStatus</th>\n",
       "      <th>CarAnnualMileage</th>\n",
       "      <th>CarFuelId</th>\n",
       "      <th>CarUsageId</th>\n",
       "      <th>FirstDriverAge</th>\n",
       "      <th>CarInsuredValue</th>\n",
       "      <th>CarAge</th>\n",
       "      <th>...</th>\n",
       "      <th>vendor_log_sales</th>\n",
       "      <th>age_minus_policy</th>\n",
       "      <th>num_unique_pols</th>\n",
       "      <th>num_total_pols</th>\n",
       "      <th>car_flag_1</th>\n",
       "      <th>car_flag_2</th>\n",
       "      <th>car_flag_3</th>\n",
       "      <th>car_flag_4</th>\n",
       "      <th>car_flag_5</th>\n",
       "      <th>car_flag_6</th>\n",
       "    </tr>\n",
       "  </thead>\n",
       "  <tbody>\n",
       "    <tr>\n",
       "      <th>0</th>\n",
       "      <td>0</td>\n",
       "      <td>0x0af8dd0b86f6bdc5ecc29ee8a587e5a5</td>\n",
       "      <td>554</td>\n",
       "      <td>1.0</td>\n",
       "      <td>4001.0</td>\n",
       "      <td>1.0</td>\n",
       "      <td>1.0</td>\n",
       "      <td>58.0</td>\n",
       "      <td>3001.0</td>\n",
       "      <td>6.0</td>\n",
       "      <td>...</td>\n",
       "      <td>2</td>\n",
       "      <td>49.0</td>\n",
       "      <td>5</td>\n",
       "      <td>34</td>\n",
       "      <td>False</td>\n",
       "      <td>False</td>\n",
       "      <td>False</td>\n",
       "      <td>False</td>\n",
       "      <td>False</td>\n",
       "      <td>False</td>\n",
       "    </tr>\n",
       "    <tr>\n",
       "      <th>1</th>\n",
       "      <td>1</td>\n",
       "      <td>0xc2ab85a1e67787e05612f81b4d2d4b44</td>\n",
       "      <td>259</td>\n",
       "      <td>4.0</td>\n",
       "      <td>4001.0</td>\n",
       "      <td>1.0</td>\n",
       "      <td>4.0</td>\n",
       "      <td>55.0</td>\n",
       "      <td>0.0</td>\n",
       "      <td>14.0</td>\n",
       "      <td>...</td>\n",
       "      <td>2</td>\n",
       "      <td>46.0</td>\n",
       "      <td>5</td>\n",
       "      <td>157</td>\n",
       "      <td>False</td>\n",
       "      <td>False</td>\n",
       "      <td>False</td>\n",
       "      <td>False</td>\n",
       "      <td>False</td>\n",
       "      <td>False</td>\n",
       "    </tr>\n",
       "    <tr>\n",
       "      <th>2</th>\n",
       "      <td>2</td>\n",
       "      <td>0xd355bb50d71da053adb6aa0a2a4ff887</td>\n",
       "      <td>225</td>\n",
       "      <td>1.0</td>\n",
       "      <td>5001.0</td>\n",
       "      <td>1.0</td>\n",
       "      <td>0.0</td>\n",
       "      <td>31.0</td>\n",
       "      <td>1001.0</td>\n",
       "      <td>10.0</td>\n",
       "      <td>...</td>\n",
       "      <td>2</td>\n",
       "      <td>24.0</td>\n",
       "      <td>5</td>\n",
       "      <td>22</td>\n",
       "      <td>False</td>\n",
       "      <td>False</td>\n",
       "      <td>False</td>\n",
       "      <td>False</td>\n",
       "      <td>False</td>\n",
       "      <td>False</td>\n",
       "    </tr>\n",
       "    <tr>\n",
       "      <th>3</th>\n",
       "      <td>3</td>\n",
       "      <td>0x7022e0ce1ea3c8a110ab6a9feba3cef0</td>\n",
       "      <td>551</td>\n",
       "      <td>2.0</td>\n",
       "      <td>5001.0</td>\n",
       "      <td>2.0</td>\n",
       "      <td>4.0</td>\n",
       "      <td>52.0</td>\n",
       "      <td>23001.0</td>\n",
       "      <td>1.0</td>\n",
       "      <td>...</td>\n",
       "      <td>2</td>\n",
       "      <td>45.0</td>\n",
       "      <td>5</td>\n",
       "      <td>18</td>\n",
       "      <td>False</td>\n",
       "      <td>False</td>\n",
       "      <td>False</td>\n",
       "      <td>False</td>\n",
       "      <td>False</td>\n",
       "      <td>False</td>\n",
       "    </tr>\n",
       "    <tr>\n",
       "      <th>4</th>\n",
       "      <td>4</td>\n",
       "      <td>0x3414ea05924ca2421f03d93a1f04af49</td>\n",
       "      <td>170</td>\n",
       "      <td>3.0</td>\n",
       "      <td>5001.0</td>\n",
       "      <td>1.0</td>\n",
       "      <td>1.0</td>\n",
       "      <td>29.0</td>\n",
       "      <td>2001.0</td>\n",
       "      <td>7.0</td>\n",
       "      <td>...</td>\n",
       "      <td>2</td>\n",
       "      <td>19.0</td>\n",
       "      <td>4</td>\n",
       "      <td>48</td>\n",
       "      <td>True</td>\n",
       "      <td>False</td>\n",
       "      <td>True</td>\n",
       "      <td>True</td>\n",
       "      <td>False</td>\n",
       "      <td>True</td>\n",
       "    </tr>\n",
       "  </tbody>\n",
       "</table>\n",
       "<p>5 rows × 41 columns</p>\n",
       "</div>"
      ],
      "text/plain": [
       "   Unnamed: 0                      CustomerMD5Key  SCID  \\\n",
       "0           0  0x0af8dd0b86f6bdc5ecc29ee8a587e5a5   554   \n",
       "1           1  0xc2ab85a1e67787e05612f81b4d2d4b44   259   \n",
       "2           2  0xd355bb50d71da053adb6aa0a2a4ff887   225   \n",
       "3           3  0x7022e0ce1ea3c8a110ab6a9feba3cef0   551   \n",
       "4           4  0x3414ea05924ca2421f03d93a1f04af49   170   \n",
       "\n",
       "   FirstDriverMaritalStatus  CarAnnualMileage  CarFuelId  CarUsageId  \\\n",
       "0                       1.0            4001.0        1.0         1.0   \n",
       "1                       4.0            4001.0        1.0         4.0   \n",
       "2                       1.0            5001.0        1.0         0.0   \n",
       "3                       2.0            5001.0        2.0         4.0   \n",
       "4                       3.0            5001.0        1.0         1.0   \n",
       "\n",
       "   FirstDriverAge  CarInsuredValue  CarAge     ...      vendor_log_sales  \\\n",
       "0            58.0           3001.0     6.0     ...                     2   \n",
       "1            55.0              0.0    14.0     ...                     2   \n",
       "2            31.0           1001.0    10.0     ...                     2   \n",
       "3            52.0          23001.0     1.0     ...                     2   \n",
       "4            29.0           2001.0     7.0     ...                     2   \n",
       "\n",
       "   age_minus_policy  num_unique_pols  num_total_pols  car_flag_1  car_flag_2  \\\n",
       "0              49.0                5              34       False       False   \n",
       "1              46.0                5             157       False       False   \n",
       "2              24.0                5              22       False       False   \n",
       "3              45.0                5              18       False       False   \n",
       "4              19.0                4              48        True       False   \n",
       "\n",
       "   car_flag_3  car_flag_4  car_flag_5  car_flag_6  \n",
       "0       False       False       False       False  \n",
       "1       False       False       False       False  \n",
       "2       False       False       False       False  \n",
       "3       False       False       False       False  \n",
       "4        True        True       False        True  \n",
       "\n",
       "[5 rows x 41 columns]"
      ]
     },
     "execution_count": 44,
     "metadata": {},
     "output_type": "execute_result"
    }
   ],
   "source": [
    "X.head()"
   ]
  },
  {
   "cell_type": "code",
   "execution_count": 45,
   "metadata": {
    "collapsed": false
   },
   "outputs": [
    {
     "data": {
      "text/html": [
       "<div>\n",
       "<table border=\"1\" class=\"dataframe\">\n",
       "  <thead>\n",
       "    <tr style=\"text-align: right;\">\n",
       "      <th></th>\n",
       "      <th>SCID</th>\n",
       "      <th>FirstDriverMaritalStatus</th>\n",
       "      <th>CarAnnualMileage</th>\n",
       "      <th>CarFuelId</th>\n",
       "      <th>CarUsageId</th>\n",
       "      <th>FirstDriverAge</th>\n",
       "      <th>CarInsuredValue</th>\n",
       "      <th>CarAge</th>\n",
       "      <th>FirstDriverDrivingLicenseNumberY</th>\n",
       "      <th>VoluntaryExcess</th>\n",
       "      <th>...</th>\n",
       "      <th>vendor_log_sales</th>\n",
       "      <th>age_minus_policy</th>\n",
       "      <th>num_unique_pols</th>\n",
       "      <th>num_total_pols</th>\n",
       "      <th>car_flag_1</th>\n",
       "      <th>car_flag_2</th>\n",
       "      <th>car_flag_3</th>\n",
       "      <th>car_flag_4</th>\n",
       "      <th>car_flag_5</th>\n",
       "      <th>car_flag_6</th>\n",
       "    </tr>\n",
       "  </thead>\n",
       "  <tbody>\n",
       "    <tr>\n",
       "      <th>0</th>\n",
       "      <td>554</td>\n",
       "      <td>1.0</td>\n",
       "      <td>4001.0</td>\n",
       "      <td>1.0</td>\n",
       "      <td>1.0</td>\n",
       "      <td>58.0</td>\n",
       "      <td>3001.0</td>\n",
       "      <td>6.0</td>\n",
       "      <td>30.0</td>\n",
       "      <td>250.0</td>\n",
       "      <td>...</td>\n",
       "      <td>2</td>\n",
       "      <td>49.0</td>\n",
       "      <td>5</td>\n",
       "      <td>34</td>\n",
       "      <td>False</td>\n",
       "      <td>False</td>\n",
       "      <td>False</td>\n",
       "      <td>False</td>\n",
       "      <td>False</td>\n",
       "      <td>False</td>\n",
       "    </tr>\n",
       "    <tr>\n",
       "      <th>1</th>\n",
       "      <td>259</td>\n",
       "      <td>4.0</td>\n",
       "      <td>4001.0</td>\n",
       "      <td>1.0</td>\n",
       "      <td>4.0</td>\n",
       "      <td>55.0</td>\n",
       "      <td>0.0</td>\n",
       "      <td>14.0</td>\n",
       "      <td>30.0</td>\n",
       "      <td>200.0</td>\n",
       "      <td>...</td>\n",
       "      <td>2</td>\n",
       "      <td>46.0</td>\n",
       "      <td>5</td>\n",
       "      <td>157</td>\n",
       "      <td>False</td>\n",
       "      <td>False</td>\n",
       "      <td>False</td>\n",
       "      <td>False</td>\n",
       "      <td>False</td>\n",
       "      <td>False</td>\n",
       "    </tr>\n",
       "    <tr>\n",
       "      <th>2</th>\n",
       "      <td>225</td>\n",
       "      <td>1.0</td>\n",
       "      <td>5001.0</td>\n",
       "      <td>1.0</td>\n",
       "      <td>0.0</td>\n",
       "      <td>31.0</td>\n",
       "      <td>1001.0</td>\n",
       "      <td>10.0</td>\n",
       "      <td>8.0</td>\n",
       "      <td>250.0</td>\n",
       "      <td>...</td>\n",
       "      <td>2</td>\n",
       "      <td>24.0</td>\n",
       "      <td>5</td>\n",
       "      <td>22</td>\n",
       "      <td>False</td>\n",
       "      <td>False</td>\n",
       "      <td>False</td>\n",
       "      <td>False</td>\n",
       "      <td>False</td>\n",
       "      <td>False</td>\n",
       "    </tr>\n",
       "    <tr>\n",
       "      <th>3</th>\n",
       "      <td>551</td>\n",
       "      <td>2.0</td>\n",
       "      <td>5001.0</td>\n",
       "      <td>2.0</td>\n",
       "      <td>4.0</td>\n",
       "      <td>52.0</td>\n",
       "      <td>23001.0</td>\n",
       "      <td>1.0</td>\n",
       "      <td>8.0</td>\n",
       "      <td>250.0</td>\n",
       "      <td>...</td>\n",
       "      <td>2</td>\n",
       "      <td>45.0</td>\n",
       "      <td>5</td>\n",
       "      <td>18</td>\n",
       "      <td>False</td>\n",
       "      <td>False</td>\n",
       "      <td>False</td>\n",
       "      <td>False</td>\n",
       "      <td>False</td>\n",
       "      <td>False</td>\n",
       "    </tr>\n",
       "    <tr>\n",
       "      <th>4</th>\n",
       "      <td>170</td>\n",
       "      <td>3.0</td>\n",
       "      <td>5001.0</td>\n",
       "      <td>1.0</td>\n",
       "      <td>1.0</td>\n",
       "      <td>29.0</td>\n",
       "      <td>2001.0</td>\n",
       "      <td>7.0</td>\n",
       "      <td>11.0</td>\n",
       "      <td>250.0</td>\n",
       "      <td>...</td>\n",
       "      <td>2</td>\n",
       "      <td>19.0</td>\n",
       "      <td>4</td>\n",
       "      <td>48</td>\n",
       "      <td>True</td>\n",
       "      <td>False</td>\n",
       "      <td>True</td>\n",
       "      <td>True</td>\n",
       "      <td>False</td>\n",
       "      <td>True</td>\n",
       "    </tr>\n",
       "  </tbody>\n",
       "</table>\n",
       "<p>5 rows × 39 columns</p>\n",
       "</div>"
      ],
      "text/plain": [
       "   SCID  FirstDriverMaritalStatus  CarAnnualMileage  CarFuelId  CarUsageId  \\\n",
       "0   554                       1.0            4001.0        1.0         1.0   \n",
       "1   259                       4.0            4001.0        1.0         4.0   \n",
       "2   225                       1.0            5001.0        1.0         0.0   \n",
       "3   551                       2.0            5001.0        2.0         4.0   \n",
       "4   170                       3.0            5001.0        1.0         1.0   \n",
       "\n",
       "   FirstDriverAge  CarInsuredValue  CarAge  FirstDriverDrivingLicenseNumberY  \\\n",
       "0            58.0           3001.0     6.0                              30.0   \n",
       "1            55.0              0.0    14.0                              30.0   \n",
       "2            31.0           1001.0    10.0                               8.0   \n",
       "3            52.0          23001.0     1.0                               8.0   \n",
       "4            29.0           2001.0     7.0                              11.0   \n",
       "\n",
       "   VoluntaryExcess     ...      vendor_log_sales  age_minus_policy  \\\n",
       "0            250.0     ...                     2              49.0   \n",
       "1            200.0     ...                     2              46.0   \n",
       "2            250.0     ...                     2              24.0   \n",
       "3            250.0     ...                     2              45.0   \n",
       "4            250.0     ...                     2              19.0   \n",
       "\n",
       "   num_unique_pols  num_total_pols  car_flag_1  car_flag_2  car_flag_3  \\\n",
       "0                5              34       False       False       False   \n",
       "1                5             157       False       False       False   \n",
       "2                5              22       False       False       False   \n",
       "3                5              18       False       False       False   \n",
       "4                4              48        True       False        True   \n",
       "\n",
       "   car_flag_4  car_flag_5  car_flag_6  \n",
       "0       False       False       False  \n",
       "1       False       False       False  \n",
       "2       False       False       False  \n",
       "3       False       False       False  \n",
       "4        True       False        True  \n",
       "\n",
       "[5 rows x 39 columns]"
      ]
     },
     "execution_count": 45,
     "metadata": {},
     "output_type": "execute_result"
    }
   ],
   "source": [
    "X.loc[:, \"SCID\":].head()"
   ]
  },
  {
   "cell_type": "code",
   "execution_count": 46,
   "metadata": {
    "collapsed": false
   },
   "outputs": [],
   "source": [
    "X_csv = X.loc[:, \"SCID\":]\n",
    "X_csv = X_csv.drop(\"labels\", 1)"
   ]
  },
  {
   "cell_type": "code",
   "execution_count": 47,
   "metadata": {
    "collapsed": false
   },
   "outputs": [
    {
     "data": {
      "text/plain": [
       "Index([u'SCID', u'FirstDriverMaritalStatus', u'CarAnnualMileage', u'CarFuelId',\n",
       "       u'CarUsageId', u'FirstDriverAge', u'CarInsuredValue', u'CarAge',\n",
       "       u'FirstDriverDrivingLicenseNumberY', u'VoluntaryExcess',\n",
       "       u'CarParkingTypeId', u'PolicyHolderNoClaimDiscountYears',\n",
       "       u'FirstDriverDrivingLicenceType', u'CoverIsNoClaimDiscountSelected',\n",
       "       u'CarDrivingEntitlement', u'CarTransmissionId', u'SocioDemographicId',\n",
       "       u'PolicyHolderResidencyArea', u'AllDriversNbConvictions',\n",
       "       u'RatedDriverNumber', u'IsPolicyholderAHomeowner', u'CarMakeId',\n",
       "       u'DaysSinceCarPurchase', u'NameOfPolicyProduct', u'AffinityCodeId',\n",
       "       u'voluntary_payment_per_value', u'annual_milage_per_age',\n",
       "       u'vendor_success_rate', u'vendor_log_sales', u'age_minus_policy',\n",
       "       u'num_unique_pols', u'num_total_pols', u'car_flag_1', u'car_flag_2',\n",
       "       u'car_flag_3', u'car_flag_4', u'car_flag_5', u'car_flag_6'],\n",
       "      dtype='object')"
      ]
     },
     "execution_count": 47,
     "metadata": {},
     "output_type": "execute_result"
    }
   ],
   "source": [
    "X_csv.columns"
   ]
  },
  {
   "cell_type": "code",
   "execution_count": 48,
   "metadata": {
    "collapsed": false
   },
   "outputs": [],
   "source": [
    "# Generate a random sample of column names\n",
    "custom = list(X_csv.columns[len(X_csv.columns) - 13:])\n",
    "default = list(X_csv.columns[:len(X_csv.columns) - 13])\n",
    "\n",
    "random_cols = list(np.random.choice(default, 7))\n",
    "\n",
    "random_cols = random_cols + custom"
   ]
  },
  {
   "cell_type": "code",
   "execution_count": 49,
   "metadata": {
    "collapsed": true
   },
   "outputs": [],
   "source": [
    "# X_csv = X_csv[random_cols]"
   ]
  },
  {
   "cell_type": "code",
   "execution_count": 50,
   "metadata": {
    "collapsed": false
   },
   "outputs": [
    {
     "data": {
      "text/html": [
       "<div>\n",
       "<table border=\"1\" class=\"dataframe\">\n",
       "  <thead>\n",
       "    <tr style=\"text-align: right;\">\n",
       "      <th></th>\n",
       "      <th>SCID</th>\n",
       "      <th>FirstDriverMaritalStatus</th>\n",
       "      <th>CarAnnualMileage</th>\n",
       "      <th>CarFuelId</th>\n",
       "      <th>CarUsageId</th>\n",
       "      <th>FirstDriverAge</th>\n",
       "      <th>CarInsuredValue</th>\n",
       "      <th>CarAge</th>\n",
       "      <th>FirstDriverDrivingLicenseNumberY</th>\n",
       "      <th>VoluntaryExcess</th>\n",
       "      <th>...</th>\n",
       "      <th>vendor_log_sales</th>\n",
       "      <th>age_minus_policy</th>\n",
       "      <th>num_unique_pols</th>\n",
       "      <th>num_total_pols</th>\n",
       "      <th>car_flag_1</th>\n",
       "      <th>car_flag_2</th>\n",
       "      <th>car_flag_3</th>\n",
       "      <th>car_flag_4</th>\n",
       "      <th>car_flag_5</th>\n",
       "      <th>car_flag_6</th>\n",
       "    </tr>\n",
       "  </thead>\n",
       "  <tbody>\n",
       "    <tr>\n",
       "      <th>0</th>\n",
       "      <td>554</td>\n",
       "      <td>1.0</td>\n",
       "      <td>4001.0</td>\n",
       "      <td>1.0</td>\n",
       "      <td>1.0</td>\n",
       "      <td>58.0</td>\n",
       "      <td>3001.0</td>\n",
       "      <td>6.0</td>\n",
       "      <td>30.0</td>\n",
       "      <td>250.0</td>\n",
       "      <td>...</td>\n",
       "      <td>2</td>\n",
       "      <td>49.0</td>\n",
       "      <td>5</td>\n",
       "      <td>34</td>\n",
       "      <td>False</td>\n",
       "      <td>False</td>\n",
       "      <td>False</td>\n",
       "      <td>False</td>\n",
       "      <td>False</td>\n",
       "      <td>False</td>\n",
       "    </tr>\n",
       "    <tr>\n",
       "      <th>1</th>\n",
       "      <td>259</td>\n",
       "      <td>4.0</td>\n",
       "      <td>4001.0</td>\n",
       "      <td>1.0</td>\n",
       "      <td>4.0</td>\n",
       "      <td>55.0</td>\n",
       "      <td>0.0</td>\n",
       "      <td>14.0</td>\n",
       "      <td>30.0</td>\n",
       "      <td>200.0</td>\n",
       "      <td>...</td>\n",
       "      <td>2</td>\n",
       "      <td>46.0</td>\n",
       "      <td>5</td>\n",
       "      <td>157</td>\n",
       "      <td>False</td>\n",
       "      <td>False</td>\n",
       "      <td>False</td>\n",
       "      <td>False</td>\n",
       "      <td>False</td>\n",
       "      <td>False</td>\n",
       "    </tr>\n",
       "    <tr>\n",
       "      <th>2</th>\n",
       "      <td>225</td>\n",
       "      <td>1.0</td>\n",
       "      <td>5001.0</td>\n",
       "      <td>1.0</td>\n",
       "      <td>0.0</td>\n",
       "      <td>31.0</td>\n",
       "      <td>1001.0</td>\n",
       "      <td>10.0</td>\n",
       "      <td>8.0</td>\n",
       "      <td>250.0</td>\n",
       "      <td>...</td>\n",
       "      <td>2</td>\n",
       "      <td>24.0</td>\n",
       "      <td>5</td>\n",
       "      <td>22</td>\n",
       "      <td>False</td>\n",
       "      <td>False</td>\n",
       "      <td>False</td>\n",
       "      <td>False</td>\n",
       "      <td>False</td>\n",
       "      <td>False</td>\n",
       "    </tr>\n",
       "    <tr>\n",
       "      <th>3</th>\n",
       "      <td>551</td>\n",
       "      <td>2.0</td>\n",
       "      <td>5001.0</td>\n",
       "      <td>2.0</td>\n",
       "      <td>4.0</td>\n",
       "      <td>52.0</td>\n",
       "      <td>23001.0</td>\n",
       "      <td>1.0</td>\n",
       "      <td>8.0</td>\n",
       "      <td>250.0</td>\n",
       "      <td>...</td>\n",
       "      <td>2</td>\n",
       "      <td>45.0</td>\n",
       "      <td>5</td>\n",
       "      <td>18</td>\n",
       "      <td>False</td>\n",
       "      <td>False</td>\n",
       "      <td>False</td>\n",
       "      <td>False</td>\n",
       "      <td>False</td>\n",
       "      <td>False</td>\n",
       "    </tr>\n",
       "    <tr>\n",
       "      <th>4</th>\n",
       "      <td>170</td>\n",
       "      <td>3.0</td>\n",
       "      <td>5001.0</td>\n",
       "      <td>1.0</td>\n",
       "      <td>1.0</td>\n",
       "      <td>29.0</td>\n",
       "      <td>2001.0</td>\n",
       "      <td>7.0</td>\n",
       "      <td>11.0</td>\n",
       "      <td>250.0</td>\n",
       "      <td>...</td>\n",
       "      <td>2</td>\n",
       "      <td>19.0</td>\n",
       "      <td>4</td>\n",
       "      <td>48</td>\n",
       "      <td>True</td>\n",
       "      <td>False</td>\n",
       "      <td>True</td>\n",
       "      <td>True</td>\n",
       "      <td>False</td>\n",
       "      <td>True</td>\n",
       "    </tr>\n",
       "  </tbody>\n",
       "</table>\n",
       "<p>5 rows × 38 columns</p>\n",
       "</div>"
      ],
      "text/plain": [
       "   SCID  FirstDriverMaritalStatus  CarAnnualMileage  CarFuelId  CarUsageId  \\\n",
       "0   554                       1.0            4001.0        1.0         1.0   \n",
       "1   259                       4.0            4001.0        1.0         4.0   \n",
       "2   225                       1.0            5001.0        1.0         0.0   \n",
       "3   551                       2.0            5001.0        2.0         4.0   \n",
       "4   170                       3.0            5001.0        1.0         1.0   \n",
       "\n",
       "   FirstDriverAge  CarInsuredValue  CarAge  FirstDriverDrivingLicenseNumberY  \\\n",
       "0            58.0           3001.0     6.0                              30.0   \n",
       "1            55.0              0.0    14.0                              30.0   \n",
       "2            31.0           1001.0    10.0                               8.0   \n",
       "3            52.0          23001.0     1.0                               8.0   \n",
       "4            29.0           2001.0     7.0                              11.0   \n",
       "\n",
       "   VoluntaryExcess     ...      vendor_log_sales  age_minus_policy  \\\n",
       "0            250.0     ...                     2              49.0   \n",
       "1            200.0     ...                     2              46.0   \n",
       "2            250.0     ...                     2              24.0   \n",
       "3            250.0     ...                     2              45.0   \n",
       "4            250.0     ...                     2              19.0   \n",
       "\n",
       "   num_unique_pols  num_total_pols  car_flag_1  car_flag_2  car_flag_3  \\\n",
       "0                5              34       False       False       False   \n",
       "1                5             157       False       False       False   \n",
       "2                5              22       False       False       False   \n",
       "3                5              18       False       False       False   \n",
       "4                4              48        True       False        True   \n",
       "\n",
       "   car_flag_4  car_flag_5  car_flag_6  \n",
       "0       False       False       False  \n",
       "1       False       False       False  \n",
       "2       False       False       False  \n",
       "3       False       False       False  \n",
       "4        True       False        True  \n",
       "\n",
       "[5 rows x 38 columns]"
      ]
     },
     "execution_count": 50,
     "metadata": {},
     "output_type": "execute_result"
    }
   ],
   "source": [
    "X_csv.head()"
   ]
  },
  {
   "cell_type": "code",
   "execution_count": 51,
   "metadata": {
    "collapsed": true
   },
   "outputs": [],
   "source": [
    "X = np.array(X_csv)"
   ]
  },
  {
   "cell_type": "code",
   "execution_count": 52,
   "metadata": {
    "collapsed": true
   },
   "outputs": [],
   "source": [
    "y = forty_cols[\"arr_1\"]"
   ]
  },
  {
   "cell_type": "code",
   "execution_count": 53,
   "metadata": {
    "collapsed": false
   },
   "outputs": [
    {
     "name": "stdout",
     "output_type": "stream",
     "text": [
      "(2911270, 38)\n",
      "(2911270,)\n"
     ]
    }
   ],
   "source": [
    "print X.shape\n",
    "print y.shape"
   ]
  },
  {
   "cell_type": "code",
   "execution_count": 54,
   "metadata": {
    "collapsed": false
   },
   "outputs": [],
   "source": [
    "from sklearn.cross_validation import train_test_split\n",
    "\n",
    "X_train, X_valid, y_train, y_valid = train_test_split(X, y, test_size=0.2, random_state=1)"
   ]
  },
  {
   "cell_type": "code",
   "execution_count": 55,
   "metadata": {
    "collapsed": true
   },
   "outputs": [],
   "source": [
    "X_y_pair = (X_train, y_train)"
   ]
  },
  {
   "cell_type": "code",
   "execution_count": 56,
   "metadata": {
    "collapsed": false
   },
   "outputs": [],
   "source": [
    "# # Now undersample the data 10000 times\n",
    "\n",
    "# num_undersamples = 10000\n",
    "\n",
    "# x_samples = []\n",
    "# y_samples = []\n",
    "\n",
    "# from multiprocessing import Pool\n",
    "\n",
    "# def random_sample(pair):\n",
    "#     x = pair[0]\n",
    "#     y = pair[1]\n",
    "#     US = RandomUnderSampler()\n",
    "#     usx, usy = US.fit_sample(x, y)\n",
    "#     return (usx, usy)\n",
    "\n",
    "# p = Pool(10)\n",
    "# undersamples = p.map(random_sample, [X_y_pair for i in range(num_undersamples)])"
   ]
  },
  {
   "cell_type": "code",
   "execution_count": 57,
   "metadata": {
    "collapsed": false
   },
   "outputs": [],
   "source": [
    "# US = RandomUnderSampler()\n",
    "\n",
    "# usx, usy = US.fit_sample(X_train, y_train)\n",
    "# usx_2, usy_2 = US.fit_sample(X_train, y_train)\n",
    "# usx_3, usy_3 = US.fit_sample(X_train, y_train)"
   ]
  },
  {
   "cell_type": "code",
   "execution_count": 58,
   "metadata": {
    "collapsed": false
   },
   "outputs": [],
   "source": [
    "# print usx.shape\n",
    "# print usx_2.shape\n",
    "# print usx_3.shape"
   ]
  },
  {
   "cell_type": "code",
   "execution_count": 59,
   "metadata": {
    "collapsed": false
   },
   "outputs": [],
   "source": [
    "# X_samples, y_samples = [], []\n",
    "\n",
    "# import time\n",
    "\n",
    "# def transfer_to_undersample(pair):\n",
    "#     X_train, y_train = pair\n",
    "#     US = RandomUnderSampler()\n",
    "#     return US.fit_sample(X_train, y_train)\n",
    "\n",
    "# # Let's do this in parallel\n",
    "# from multiprocessing import Pool\n",
    "\n",
    "# p = Pool(3)\n",
    "\n",
    "# num_undersamples = 50\n",
    "\n",
    "# for i in range(num_undersamples):\n",
    "#     start = time.time()\n",
    "#     pairs = [(X_train, y_train) for i in range(3)]\n",
    "#     samples = p.map(transfer_to_undersample, pairs)\n",
    "    \n",
    "#     x_s = (sample[0] for sample in samples)\n",
    "#     y_s = (sample[1] for sample in samples)\n",
    "\n",
    "#     usx = np.vstack(x_s)\n",
    "#     usy = np.vstack(y_s)\n",
    "#     X_samples.append(usx)\n",
    "#     y_samples.append(usy)\n",
    "#     end = time.time()\n",
    "#     print \"Finished Iteration %d - %.3f\" % (i, end-start)\n"
   ]
  },
  {
   "cell_type": "code",
   "execution_count": 60,
   "metadata": {
    "collapsed": false
   },
   "outputs": [
    {
     "name": "stdout",
     "output_type": "stream",
     "text": [
      "Finished Iteration 19 - 413.134\n",
      "Finished Iteration 19 - 441.007\n",
      "Finished Iteration 19 - 424.503\n"
     ]
    }
   ],
   "source": [
    "X_samples, y_samples = [], []\n",
    "\n",
    "import time\n",
    "\n",
    "num_undersamples = 3\n",
    "\n",
    "for i in range(num_undersamples):\n",
    "    start = time.time()    \n",
    "    samples = [US.fit_sample(X_train, y_train) for j in range(20)]\n",
    "    \n",
    "    x_s = (sample[0] for sample in samples)\n",
    "    y_s = (sample[1] for sample in samples)\n",
    "\n",
    "    usx = np.vstack(x_s)\n",
    "    usy = np.hstack(y_s)\n",
    "    usy = np.reshape(usy, (len(usy), 1))\n",
    "    X_samples.append(usx)\n",
    "    y_samples.append(usy)\n",
    "    end = time.time()\n",
    "    print \"Finished Iteration %d - %.3f\" % (i, end-start)\n"
   ]
  },
  {
   "cell_type": "code",
   "execution_count": 61,
   "metadata": {
    "collapsed": true
   },
   "outputs": [],
   "source": [
    "# Save the files\n",
    "np.savez(\"X_train_v3.npz\", *X_samples)\n",
    "np.savez(\"y_train_v3.npz\", *y_samples)\n",
    "np.save(\"X_valid_v3.npy\", X_valid)\n",
    "np.save(\"y_valid_v3.npy\", y_valid)"
   ]
  },
  {
   "cell_type": "code",
   "execution_count": 62,
   "metadata": {
    "collapsed": false
   },
   "outputs": [
    {
     "data": {
      "text/plain": [
       "(728120, 38)"
      ]
     },
     "execution_count": 62,
     "metadata": {},
     "output_type": "execute_result"
    }
   ],
   "source": [
    "X_samples[0].shape"
   ]
  },
  {
   "cell_type": "code",
   "execution_count": 63,
   "metadata": {
    "collapsed": false
   },
   "outputs": [
    {
     "data": {
      "text/plain": [
       "(728120, 1)"
      ]
     },
     "execution_count": 63,
     "metadata": {},
     "output_type": "execute_result"
    }
   ],
   "source": [
    "y_samples[0].shape"
   ]
  },
  {
   "cell_type": "code",
   "execution_count": null,
   "metadata": {
    "collapsed": true
   },
   "outputs": [],
   "source": []
  }
 ],
 "metadata": {
  "kernelspec": {
   "display_name": "Python 2",
   "language": "python",
   "name": "python2"
  },
  "language_info": {
   "codemirror_mode": {
    "name": "ipython",
    "version": 2
   },
   "file_extension": ".py",
   "mimetype": "text/x-python",
   "name": "python",
   "nbconvert_exporter": "python",
   "pygments_lexer": "ipython2",
   "version": "2.7.12"
  }
 },
 "nbformat": 4,
 "nbformat_minor": 0
}
