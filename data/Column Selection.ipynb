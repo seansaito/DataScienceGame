{
 "cells": [
  {
   "cell_type": "markdown",
   "metadata": {},
   "source": [
    "# For getting the right combination of columns"
   ]
  },
  {
   "cell_type": "code",
   "execution_count": 8,
   "metadata": {
    "collapsed": true
   },
   "outputs": [],
   "source": [
    "import numpy as np\n",
    "import pandas as pd\n",
    "import itertools\n",
    "\n",
    "from sklearn.grid_search import GridSearchCV\n",
    "from sklearn.pipeline import Pipeline\n",
    "from sklearn.linear_model import LogisticRegression\n",
    "from sklearn.cross_validation import train_test_split\n",
    "\n",
    "forty_cols = np.load(\"forty_column_dataset.npz\")\n",
    "forty_cols.keys()\n",
    "X_csv = pd.read_csv(\"forty_column_dataset.csv\")\n",
    "X_csv = X_csv.loc[:, \"SCID\":]\n",
    "X_csv = X_csv.drop(\"labels\", 1)\n",
    "X = np.array(X_csv)"
   ]
  },
  {
   "cell_type": "code",
   "execution_count": 9,
   "metadata": {
    "collapsed": false
   },
   "outputs": [
    {
     "data": {
      "text/plain": [
       "Index([u'SCID', u'FirstDriverMaritalStatus', u'CarAnnualMileage', u'CarFuelId',\n",
       "       u'CarUsageId', u'FirstDriverAge', u'CarInsuredValue', u'CarAge',\n",
       "       u'FirstDriverDrivingLicenseNumberY', u'VoluntaryExcess',\n",
       "       u'CarParkingTypeId', u'PolicyHolderNoClaimDiscountYears',\n",
       "       u'FirstDriverDrivingLicenceType', u'CoverIsNoClaimDiscountSelected',\n",
       "       u'CarDrivingEntitlement', u'CarTransmissionId', u'SocioDemographicId',\n",
       "       u'PolicyHolderResidencyArea', u'AllDriversNbConvictions',\n",
       "       u'RatedDriverNumber', u'IsPolicyholderAHomeowner', u'CarMakeId',\n",
       "       u'DaysSinceCarPurchase', u'NameOfPolicyProduct', u'AffinityCodeId',\n",
       "       u'voluntary_payment_per_value', u'annual_milage_per_age',\n",
       "       u'vendor_success_rate', u'vendor_log_sales', u'age_minus_policy',\n",
       "       u'num_unique_pols', u'num_total_pols', u'car_flag_1', u'car_flag_2',\n",
       "       u'car_flag_3', u'car_flag_4', u'car_flag_5', u'car_flag_6'],\n",
       "      dtype='object')"
      ]
     },
     "execution_count": 9,
     "metadata": {},
     "output_type": "execute_result"
    }
   ],
   "source": [
    "X_csv.columns"
   ]
  },
  {
   "cell_type": "code",
   "execution_count": 3,
   "metadata": {
    "collapsed": false
   },
   "outputs": [],
   "source": [
    "# # Generate a permutation of columns\n",
    "\n",
    "# cols = X_csv.columns\n",
    "# cols = np.random.permutation(cols)"
   ]
  },
  {
   "cell_type": "code",
   "execution_count": 4,
   "metadata": {
    "collapsed": false
   },
   "outputs": [],
   "source": [
    "# cols"
   ]
  },
  {
   "cell_type": "code",
   "execution_count": 5,
   "metadata": {
    "collapsed": true
   },
   "outputs": [],
   "source": [
    "# chosen_params = []\n",
    "# best_accuracy = 0\n",
    "\n",
    "# lr = LogisticRegression()\n",
    "# y = forty_cols[\"arr_1\"]\n",
    "\n",
    "# for col_name in cols:\n",
    "#     tmp = chosen_params + [col_name]\n",
    "#     X_partial = X_csv[tmp]\n",
    "#     X = np.array(X_partial)\n",
    "#     X_train, X_valid, y_train, y_valid = train_test_split(X, y, test_size=0.2, random_state=1)\n",
    "#     lr.fit(X_train, y_train)\n",
    "#     p = lr.score(X_valid, y_valid)\n",
    "#     if p >= best_accuracy:\n",
    "#         chosen_params.append(col_name)\n",
    "#         print \"%s was chosen with accuracy improvement of %f\" % (col_name, (p - best_accuracy))\n",
    "#         best_accuracy = p\n",
    "#     else:\n",
    "#         print \"%s was not chosen\" % col_name"
   ]
  },
  {
   "cell_type": "code",
   "execution_count": 10,
   "metadata": {
    "collapsed": true
   },
   "outputs": [],
   "source": [
    "def column_selection_routine(num_runs=20):\n",
    "    print \"Loading and processing data\"\n",
    "    forty_cols = np.load(\"forty_column_dataset.npz\")\n",
    "    forty_cols.keys()\n",
    "    X_csv = pd.read_csv(\"forty_column_dataset.csv\")\n",
    "    X_csv = X_csv.loc[:, \"SCID\":]\n",
    "    X_csv.drop(\"labels\", 1)\n",
    "    X = np.array(X_csv)\n",
    "    print \"Done\"\n",
    "    \n",
    "    total_results = []\n",
    "    cols = X_csv.columns\n",
    "    \n",
    "    for i in range(num_runs):\n",
    "        print \"Run number %d\" % i\n",
    "        cols = np.random.permutation(cols)\n",
    "        chosen_params = []\n",
    "        best_accuracy = 0\n",
    "\n",
    "        lr = LogisticRegression()\n",
    "        y = forty_cols[\"arr_1\"]\n",
    "\n",
    "        for col_name in cols:\n",
    "            tmp = chosen_params + [col_name]\n",
    "            X_partial = X_csv[tmp]\n",
    "            X = np.array(X_partial)\n",
    "            X_train, X_valid, y_train, y_valid = train_test_split(X, y, test_size=0.2, random_state=1)\n",
    "            lr.fit(X_train, y_train)\n",
    "            p = lr.score(X_valid, y_valid)\n",
    "            if p >= best_accuracy:\n",
    "                chosen_params.append(col_name)\n",
    "                print \"%s was chosen with accuracy improvement of %f\" % (col_name, (p - best_accuracy))\n",
    "                best_accuracy = p\n",
    "            else:\n",
    "                print \"%s was not chosen\" % col_name\n",
    "        total_results.append((chosen_params, best_accuracy))\n",
    "        \n",
    "    return total_results\n",
    "        "
   ]
  },
  {
   "cell_type": "code",
   "execution_count": null,
   "metadata": {
    "collapsed": false
   },
   "outputs": [
    {
     "name": "stdout",
     "output_type": "stream",
     "text": [
      "Loading and processing data\n",
      "Done\n",
      "Run number 0\n",
      "CarInsuredValue was chosen with accuracy improvement of 0.992277\n",
      "CarMakeId was chosen with accuracy improvement of 0.000000\n",
      "car_flag_6 was chosen with accuracy improvement of 0.000000\n",
      "AffinityCodeId was chosen with accuracy improvement of 0.000000\n",
      "CarAnnualMileage was chosen with accuracy improvement of 0.000000\n"
     ]
    }
   ],
   "source": [
    "res = column_selection_routine()"
   ]
  },
  {
   "cell_type": "code",
   "execution_count": null,
   "metadata": {
    "collapsed": true
   },
   "outputs": [],
   "source": []
  }
 ],
 "metadata": {
  "kernelspec": {
   "display_name": "Python 2",
   "language": "python",
   "name": "python2"
  },
  "language_info": {
   "codemirror_mode": {
    "name": "ipython",
    "version": 2
   },
   "file_extension": ".py",
   "mimetype": "text/x-python",
   "name": "python",
   "nbconvert_exporter": "python",
   "pygments_lexer": "ipython2",
   "version": "2.7.12"
  }
 },
 "nbformat": 4,
 "nbformat_minor": 0
}
