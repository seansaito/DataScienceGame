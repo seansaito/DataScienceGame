{
 "cells": [
  {
   "cell_type": "markdown",
   "metadata": {},
   "source": [
    "# For getting the right combination of columns"
   ]
  },
  {
   "cell_type": "code",
   "execution_count": 1,
   "metadata": {
    "collapsed": true
   },
   "outputs": [],
   "source": [
    "import numpy as np\n",
    "import pandas as pd\n",
    "import itertools\n",
    "\n",
    "from sklearn.grid_search import GridSearchCV\n",
    "from sklearn.pipeline import Pipeline\n",
    "from sklearn.linear_model import LogisticRegression\n",
    "from sklearn.cross_validation import train_test_split\n",
    "\n",
    "# forty_cols = np.load(\"forty_column_dataset.npz\")\n",
    "# forty_cols.keys()\n",
    "# X_csv = pd.read_csv(\"forty_column_dataset.csv\")\n",
    "# X_csv = X_csv.loc[:, \"SCID\":]\n",
    "# X_csv = X_csv.drop(\"labels\", 1)\n",
    "# X = np.array(X_csv)"
   ]
  },
  {
   "cell_type": "code",
   "execution_count": 3,
   "metadata": {
    "collapsed": false
   },
   "outputs": [],
   "source": [
    "# X_csv.columns"
   ]
  },
  {
   "cell_type": "code",
   "execution_count": 4,
   "metadata": {
    "collapsed": false
   },
   "outputs": [],
   "source": [
    "# # Generate a permutation of columns\n",
    "\n",
    "# cols = X_csv.columns\n",
    "# cols = np.random.permutation(cols)"
   ]
  },
  {
   "cell_type": "code",
   "execution_count": 5,
   "metadata": {
    "collapsed": false
   },
   "outputs": [],
   "source": [
    "# cols"
   ]
  },
  {
   "cell_type": "code",
   "execution_count": 6,
   "metadata": {
    "collapsed": true
   },
   "outputs": [],
   "source": [
    "# chosen_params = []\n",
    "# best_accuracy = 0\n",
    "\n",
    "# lr = LogisticRegression()\n",
    "# y = forty_cols[\"arr_1\"]\n",
    "\n",
    "# for col_name in cols:\n",
    "#     tmp = chosen_params + [col_name]\n",
    "#     X_partial = X_csv[tmp]\n",
    "#     X = np.array(X_partial)\n",
    "#     X_train, X_valid, y_train, y_valid = train_test_split(X, y, test_size=0.2, random_state=1)\n",
    "#     lr.fit(X_train, y_train)\n",
    "#     p = lr.score(X_valid, y_valid)\n",
    "#     if p >= best_accuracy:\n",
    "#         chosen_params.append(col_name)\n",
    "#         print \"%s was chosen with accuracy improvement of %f\" % (col_name, (p - best_accuracy))\n",
    "#         best_accuracy = p\n",
    "#     else:\n",
    "#         print \"%s was not chosen\" % col_name"
   ]
  },
  {
   "cell_type": "code",
   "execution_count": 7,
   "metadata": {
    "collapsed": true
   },
   "outputs": [],
   "source": [
    "def column_selection_routine(num_runs=20):\n",
    "    print \"Loading and processing data\"\n",
    "    forty_cols = np.load(\"forty_column_dataset.npz\")\n",
    "    forty_cols.keys()\n",
    "    X_csv = pd.read_csv(\"forty_column_dataset.csv\")\n",
    "    X_csv = X_csv.loc[:, \"SCID\":]\n",
    "    X_csv.drop(\"labels\", 1)\n",
    "    X = np.array(X_csv)\n",
    "    print \"Done\"\n",
    "    \n",
    "    total_results = []\n",
    "    cols = X_csv.columns\n",
    "    \n",
    "    for i in range(num_runs):\n",
    "        print \"Run number %d\" % i\n",
    "        cols = np.random.permutation(cols)\n",
    "        chosen_params = []\n",
    "        best_accuracy = 0\n",
    "\n",
    "        lr = LogisticRegression()\n",
    "        y = forty_cols[\"arr_1\"]\n",
    "\n",
    "        for col_name in cols:\n",
    "            tmp = chosen_params + [col_name]\n",
    "            X_partial = X_csv[tmp]\n",
    "            X = np.array(X_partial)\n",
    "            X_train, X_valid, y_train, y_valid = train_test_split(X, y, test_size=0.2, random_state=1)\n",
    "            lr.fit(X_train, y_train)\n",
    "            p = lr.score(X_valid, y_valid)\n",
    "            if p >= best_accuracy:\n",
    "                chosen_params.append(col_name)\n",
    "                print \"%s was chosen with accuracy improvement of %f\" % (col_name, (p - best_accuracy))\n",
    "                best_accuracy = p\n",
    "            else:\n",
    "                print \"%s was not chosen\" % col_name\n",
    "        total_results.append((chosen_params, best_accuracy))\n",
    "        \n",
    "    return total_results\n",
    "        "
   ]
  },
  {
   "cell_type": "code",
   "execution_count": 8,
   "metadata": {
    "collapsed": false
   },
   "outputs": [],
   "source": [
    "# res = column_selection_routine()"
   ]
  },
  {
   "cell_type": "code",
   "execution_count": 15,
   "metadata": {
    "collapsed": false
   },
   "outputs": [
    {
     "name": "stdout",
     "output_type": "stream",
     "text": [
      "['arr_0']\n"
     ]
    }
   ],
   "source": [
    "forty_cols = np.load(\"juice_test.npz\")\n",
    "print forty_cols.keys()\n",
    "X_test_csv = pd.read_csv(\"juice_test.csv\")\n",
    "X_test_csv = X_test_csv.loc[:, \"SCID\":]\n",
    "X_test = np.array(X_test_csv)"
   ]
  },
  {
   "cell_type": "code",
   "execution_count": 14,
   "metadata": {
    "collapsed": false
   },
   "outputs": [
    {
     "data": {
      "text/html": [
       "<div>\n",
       "<table border=\"1\" class=\"dataframe\">\n",
       "  <thead>\n",
       "    <tr style=\"text-align: right;\">\n",
       "      <th></th>\n",
       "      <th>SCID</th>\n",
       "      <th>FirstDriverMaritalStatus</th>\n",
       "      <th>CarAnnualMileage</th>\n",
       "      <th>CarFuelId</th>\n",
       "      <th>CarUsageId</th>\n",
       "      <th>FirstDriverAge</th>\n",
       "      <th>CarInsuredValue</th>\n",
       "      <th>CarAge</th>\n",
       "      <th>FirstDriverDrivingLicenseNumberY</th>\n",
       "      <th>VoluntaryExcess</th>\n",
       "      <th>...</th>\n",
       "      <th>vendor_log_sales</th>\n",
       "      <th>age_minus_policy</th>\n",
       "      <th>num_unique_pols</th>\n",
       "      <th>num_total_pols</th>\n",
       "      <th>car_flag_1</th>\n",
       "      <th>car_flag_2</th>\n",
       "      <th>car_flag_3</th>\n",
       "      <th>car_flag_4</th>\n",
       "      <th>car_flag_5</th>\n",
       "      <th>car_flag_6</th>\n",
       "    </tr>\n",
       "  </thead>\n",
       "  <tbody>\n",
       "    <tr>\n",
       "      <th>0</th>\n",
       "      <td>226</td>\n",
       "      <td>2.0</td>\n",
       "      <td>4001.0</td>\n",
       "      <td>1.0</td>\n",
       "      <td>0.0</td>\n",
       "      <td>56.0</td>\n",
       "      <td>1001.0</td>\n",
       "      <td>9.0</td>\n",
       "      <td>30.0</td>\n",
       "      <td>250.0</td>\n",
       "      <td>...</td>\n",
       "      <td>2</td>\n",
       "      <td>36.0</td>\n",
       "      <td>5</td>\n",
       "      <td>17</td>\n",
       "      <td>False</td>\n",
       "      <td>False</td>\n",
       "      <td>False</td>\n",
       "      <td>False</td>\n",
       "      <td>False</td>\n",
       "      <td>False</td>\n",
       "    </tr>\n",
       "    <tr>\n",
       "      <th>1</th>\n",
       "      <td>552</td>\n",
       "      <td>2.0</td>\n",
       "      <td>4001.0</td>\n",
       "      <td>2.0</td>\n",
       "      <td>4.0</td>\n",
       "      <td>55.0</td>\n",
       "      <td>3001.0</td>\n",
       "      <td>10.0</td>\n",
       "      <td>24.0</td>\n",
       "      <td>250.0</td>\n",
       "      <td>...</td>\n",
       "      <td>2</td>\n",
       "      <td>47.0</td>\n",
       "      <td>5</td>\n",
       "      <td>12</td>\n",
       "      <td>False</td>\n",
       "      <td>False</td>\n",
       "      <td>False</td>\n",
       "      <td>False</td>\n",
       "      <td>False</td>\n",
       "      <td>False</td>\n",
       "    </tr>\n",
       "    <tr>\n",
       "      <th>2</th>\n",
       "      <td>17</td>\n",
       "      <td>2.0</td>\n",
       "      <td>9001.0</td>\n",
       "      <td>1.0</td>\n",
       "      <td>0.0</td>\n",
       "      <td>44.0</td>\n",
       "      <td>1001.0</td>\n",
       "      <td>11.0</td>\n",
       "      <td>20.0</td>\n",
       "      <td>250.0</td>\n",
       "      <td>...</td>\n",
       "      <td>2</td>\n",
       "      <td>40.0</td>\n",
       "      <td>1</td>\n",
       "      <td>51</td>\n",
       "      <td>False</td>\n",
       "      <td>False</td>\n",
       "      <td>False</td>\n",
       "      <td>False</td>\n",
       "      <td>False</td>\n",
       "      <td>False</td>\n",
       "    </tr>\n",
       "    <tr>\n",
       "      <th>3</th>\n",
       "      <td>509</td>\n",
       "      <td>2.0</td>\n",
       "      <td>8001.0</td>\n",
       "      <td>2.0</td>\n",
       "      <td>4.0</td>\n",
       "      <td>70.0</td>\n",
       "      <td>3001.0</td>\n",
       "      <td>8.0</td>\n",
       "      <td>25.0</td>\n",
       "      <td>250.0</td>\n",
       "      <td>...</td>\n",
       "      <td>2</td>\n",
       "      <td>61.0</td>\n",
       "      <td>1</td>\n",
       "      <td>30</td>\n",
       "      <td>False</td>\n",
       "      <td>False</td>\n",
       "      <td>False</td>\n",
       "      <td>False</td>\n",
       "      <td>False</td>\n",
       "      <td>False</td>\n",
       "    </tr>\n",
       "    <tr>\n",
       "      <th>4</th>\n",
       "      <td>508</td>\n",
       "      <td>3.0</td>\n",
       "      <td>4001.0</td>\n",
       "      <td>1.0</td>\n",
       "      <td>0.0</td>\n",
       "      <td>25.0</td>\n",
       "      <td>3001.0</td>\n",
       "      <td>5.0</td>\n",
       "      <td>5.0</td>\n",
       "      <td>250.0</td>\n",
       "      <td>...</td>\n",
       "      <td>2</td>\n",
       "      <td>20.0</td>\n",
       "      <td>1</td>\n",
       "      <td>8</td>\n",
       "      <td>False</td>\n",
       "      <td>False</td>\n",
       "      <td>False</td>\n",
       "      <td>False</td>\n",
       "      <td>False</td>\n",
       "      <td>False</td>\n",
       "    </tr>\n",
       "  </tbody>\n",
       "</table>\n",
       "<p>5 rows × 38 columns</p>\n",
       "</div>"
      ],
      "text/plain": [
       "   SCID  FirstDriverMaritalStatus  CarAnnualMileage  CarFuelId  CarUsageId  \\\n",
       "0   226                       2.0            4001.0        1.0         0.0   \n",
       "1   552                       2.0            4001.0        2.0         4.0   \n",
       "2    17                       2.0            9001.0        1.0         0.0   \n",
       "3   509                       2.0            8001.0        2.0         4.0   \n",
       "4   508                       3.0            4001.0        1.0         0.0   \n",
       "\n",
       "   FirstDriverAge  CarInsuredValue  CarAge  FirstDriverDrivingLicenseNumberY  \\\n",
       "0            56.0           1001.0     9.0                              30.0   \n",
       "1            55.0           3001.0    10.0                              24.0   \n",
       "2            44.0           1001.0    11.0                              20.0   \n",
       "3            70.0           3001.0     8.0                              25.0   \n",
       "4            25.0           3001.0     5.0                               5.0   \n",
       "\n",
       "   VoluntaryExcess     ...      vendor_log_sales  age_minus_policy  \\\n",
       "0            250.0     ...                     2              36.0   \n",
       "1            250.0     ...                     2              47.0   \n",
       "2            250.0     ...                     2              40.0   \n",
       "3            250.0     ...                     2              61.0   \n",
       "4            250.0     ...                     2              20.0   \n",
       "\n",
       "   num_unique_pols  num_total_pols  car_flag_1  car_flag_2  car_flag_3  \\\n",
       "0                5              17       False       False       False   \n",
       "1                5              12       False       False       False   \n",
       "2                1              51       False       False       False   \n",
       "3                1              30       False       False       False   \n",
       "4                1               8       False       False       False   \n",
       "\n",
       "   car_flag_4  car_flag_5  car_flag_6  \n",
       "0       False       False       False  \n",
       "1       False       False       False  \n",
       "2       False       False       False  \n",
       "3       False       False       False  \n",
       "4       False       False       False  \n",
       "\n",
       "[5 rows x 38 columns]"
      ]
     },
     "execution_count": 14,
     "metadata": {},
     "output_type": "execute_result"
    }
   ],
   "source": [
    "X_test_csv.head()"
   ]
  },
  {
   "cell_type": "code",
   "execution_count": 16,
   "metadata": {
    "collapsed": true
   },
   "outputs": [],
   "source": [
    "np.save(\"X_test.npy\", X_test)"
   ]
  },
  {
   "cell_type": "code",
   "execution_count": null,
   "metadata": {
    "collapsed": true
   },
   "outputs": [],
   "source": []
  }
 ],
 "metadata": {
  "kernelspec": {
   "display_name": "Python 2",
   "language": "python",
   "name": "python2"
  },
  "language_info": {
   "codemirror_mode": {
    "name": "ipython",
    "version": 2
   },
   "file_extension": ".py",
   "mimetype": "text/x-python",
   "name": "python",
   "nbconvert_exporter": "python",
   "pygments_lexer": "ipython2",
   "version": "2.7.12"
  }
 },
 "nbformat": 4,
 "nbformat_minor": 0
}
