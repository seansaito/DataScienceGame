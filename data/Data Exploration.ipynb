{
 "cells": [
  {
   "cell_type": "code",
   "execution_count": 1,
   "metadata": {
    "collapsed": true
   },
   "outputs": [],
   "source": [
    "import pandas as pd\n",
    "import csv"
   ]
  },
  {
   "cell_type": "code",
   "execution_count": 5,
   "metadata": {
    "collapsed": true
   },
   "outputs": [],
   "source": [
    "x_train_file = \"X_train.csv\"\n",
    "x_test_file = \"X_test.csv\"\n",
    "y_train_file = \"y_train.csv\"\n",
    "\n",
    "X_train = pd.read_csv(x_train_file)\n",
    "X_test = pd.read_csv(x_test_file)\n",
    "y_train = pd.read_csv(y_train_file)"
   ]
  },
  {
   "cell_type": "code",
   "execution_count": 8,
   "metadata": {
    "collapsed": false
   },
   "outputs": [
    {
     "data": {
      "text/html": [
       "<div>\n",
       "<table border=\"1\" class=\"dataframe\">\n",
       "  <thead>\n",
       "    <tr style=\"text-align: right;\">\n",
       "      <th></th>\n",
       "      <th>Unnamed: 0</th>\n",
       "      <th>CustomerMD5Key</th>\n",
       "      <th>ReceivedDateTime</th>\n",
       "      <th>SCID</th>\n",
       "      <th>SelectedPackage</th>\n",
       "      <th>FirstDriverMaritalStatus</th>\n",
       "      <th>CarAnnualMileage</th>\n",
       "      <th>CarFuelId</th>\n",
       "      <th>CarUsageId</th>\n",
       "      <th>FirstDriverAge</th>\n",
       "      <th>...</th>\n",
       "      <th>SocioDemographicId</th>\n",
       "      <th>PolicyHolderResidencyArea</th>\n",
       "      <th>AllDriversNbConvictions</th>\n",
       "      <th>TodayDate</th>\n",
       "      <th>RatedDriverNumber</th>\n",
       "      <th>IsPolicyholderAHomeowner</th>\n",
       "      <th>CarMakeId</th>\n",
       "      <th>DaysSinceCarPurchase</th>\n",
       "      <th>NameOfPolicyProduct</th>\n",
       "      <th>AffinityCodeId</th>\n",
       "    </tr>\n",
       "  </thead>\n",
       "  <tbody>\n",
       "    <tr>\n",
       "      <th>0</th>\n",
       "      <td>0</td>\n",
       "      <td>0x0af8dd0b86f6bdc5ecc29ee8a587e5a5</td>\n",
       "      <td>2016-08-02 08:51:01.050</td>\n",
       "      <td>A10161</td>\n",
       "      <td>3.0</td>\n",
       "      <td>1.0</td>\n",
       "      <td>4001.0</td>\n",
       "      <td>1.0</td>\n",
       "      <td>1.0</td>\n",
       "      <td>58.0</td>\n",
       "      <td>...</td>\n",
       "      <td>60.0</td>\n",
       "      <td>27.0</td>\n",
       "      <td>0.0</td>\n",
       "      <td>2016-08-02</td>\n",
       "      <td>1.0</td>\n",
       "      <td>1.0</td>\n",
       "      <td>11.0</td>\n",
       "      <td>416.0</td>\n",
       "      <td>NC</td>\n",
       "      <td>0.0</td>\n",
       "    </tr>\n",
       "  </tbody>\n",
       "</table>\n",
       "<p>1 rows × 30 columns</p>\n",
       "</div>"
      ],
      "text/plain": [
       "   Unnamed: 0                      CustomerMD5Key         ReceivedDateTime  \\\n",
       "0           0  0x0af8dd0b86f6bdc5ecc29ee8a587e5a5  2016-08-02 08:51:01.050   \n",
       "\n",
       "     SCID  SelectedPackage  FirstDriverMaritalStatus  CarAnnualMileage  \\\n",
       "0  A10161              3.0                       1.0            4001.0   \n",
       "\n",
       "   CarFuelId  CarUsageId  FirstDriverAge       ...        SocioDemographicId  \\\n",
       "0        1.0         1.0            58.0       ...                      60.0   \n",
       "\n",
       "   PolicyHolderResidencyArea  AllDriversNbConvictions   TodayDate  \\\n",
       "0                       27.0                      0.0  2016-08-02   \n",
       "\n",
       "   RatedDriverNumber  IsPolicyholderAHomeowner  CarMakeId  \\\n",
       "0                1.0                       1.0       11.0   \n",
       "\n",
       "   DaysSinceCarPurchase  NameOfPolicyProduct  AffinityCodeId  \n",
       "0                 416.0                   NC             0.0  \n",
       "\n",
       "[1 rows x 30 columns]"
      ]
     },
     "execution_count": 8,
     "metadata": {},
     "output_type": "execute_result"
    }
   ],
   "source": [
    "X_train[:1]"
   ]
  },
  {
   "cell_type": "code",
   "execution_count": 7,
   "metadata": {
    "collapsed": false
   },
   "outputs": [
    {
     "data": {
      "text/html": [
       "<div>\n",
       "<table border=\"1\" class=\"dataframe\">\n",
       "  <thead>\n",
       "    <tr style=\"text-align: right;\">\n",
       "      <th></th>\n",
       "      <th>Unnamed: 0</th>\n",
       "      <th>Converted</th>\n",
       "    </tr>\n",
       "  </thead>\n",
       "  <tbody>\n",
       "    <tr>\n",
       "      <th>0</th>\n",
       "      <td>0</td>\n",
       "      <td>0.0</td>\n",
       "    </tr>\n",
       "    <tr>\n",
       "      <th>1</th>\n",
       "      <td>1</td>\n",
       "      <td>0.0</td>\n",
       "    </tr>\n",
       "    <tr>\n",
       "      <th>2</th>\n",
       "      <td>2</td>\n",
       "      <td>0.0</td>\n",
       "    </tr>\n",
       "  </tbody>\n",
       "</table>\n",
       "</div>"
      ],
      "text/plain": [
       "   Unnamed: 0  Converted\n",
       "0           0        0.0\n",
       "1           1        0.0\n",
       "2           2        0.0"
      ]
     },
     "execution_count": 7,
     "metadata": {},
     "output_type": "execute_result"
    }
   ],
   "source": [
    "y_train[:3]"
   ]
  },
  {
   "cell_type": "code",
   "execution_count": null,
   "metadata": {
    "collapsed": true
   },
   "outputs": [],
   "source": []
  }
 ],
 "metadata": {
  "kernelspec": {
   "display_name": "Python 2",
   "language": "python",
   "name": "python2"
  },
  "language_info": {
   "codemirror_mode": {
    "name": "ipython",
    "version": 2
   },
   "file_extension": ".py",
   "mimetype": "text/x-python",
   "name": "python",
   "nbconvert_exporter": "python",
   "pygments_lexer": "ipython2",
   "version": "2.7.12"
  }
 },
 "nbformat": 4,
 "nbformat_minor": 0
}
