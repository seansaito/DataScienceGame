{
 "cells": [
  {
   "cell_type": "code",
   "execution_count": 123,
   "metadata": {
    "collapsed": true
   },
   "outputs": [],
   "source": [
    "import pandas as pd\n",
    "import numpy as np\n",
    "import csv"
   ]
  },
  {
   "cell_type": "code",
   "execution_count": 162,
   "metadata": {
    "collapsed": true
   },
   "outputs": [],
   "source": [
    "x_train_file = \"X_train.csv\"\n",
    "x_test_file = \"X_test.csv\"\n",
    "y_train_file = \"y_train.csv\"\n",
    "\n",
    "X_train = pd.read_csv(x_train_file)\n",
    "X_test = pd.read_csv(x_test_file)\n",
    "y_train = pd.read_csv(y_train_file)"
   ]
  },
  {
   "cell_type": "code",
   "execution_count": 163,
   "metadata": {
    "collapsed": false
   },
   "outputs": [
    {
     "data": {
      "text/plain": [
       "(303913, 30)"
      ]
     },
     "execution_count": 163,
     "metadata": {},
     "output_type": "execute_result"
    }
   ],
   "source": [
    "X_test.shape"
   ]
  },
  {
   "cell_type": "code",
   "execution_count": 193,
   "metadata": {
    "collapsed": false
   },
   "outputs": [
    {
     "data": {
      "text/html": [
       "<div>\n",
       "<table border=\"1\" class=\"dataframe\">\n",
       "  <thead>\n",
       "    <tr style=\"text-align: right;\">\n",
       "      <th></th>\n",
       "      <th>Unnamed: 0</th>\n",
       "      <th>CustomerMD5Key</th>\n",
       "      <th>ReceivedDateTime</th>\n",
       "      <th>SCID</th>\n",
       "      <th>SelectedPackage</th>\n",
       "      <th>FirstDriverMaritalStatus</th>\n",
       "      <th>CarAnnualMileage</th>\n",
       "      <th>CarFuelId</th>\n",
       "      <th>CarUsageId</th>\n",
       "      <th>FirstDriverAge</th>\n",
       "      <th>...</th>\n",
       "      <th>SocioDemographicId</th>\n",
       "      <th>PolicyHolderResidencyArea</th>\n",
       "      <th>AllDriversNbConvictions</th>\n",
       "      <th>TodayDate</th>\n",
       "      <th>RatedDriverNumber</th>\n",
       "      <th>IsPolicyholderAHomeowner</th>\n",
       "      <th>CarMakeId</th>\n",
       "      <th>DaysSinceCarPurchase</th>\n",
       "      <th>NameOfPolicyProduct</th>\n",
       "      <th>AffinityCodeId</th>\n",
       "    </tr>\n",
       "  </thead>\n",
       "  <tbody>\n",
       "    <tr>\n",
       "      <th>0</th>\n",
       "      <td>0</td>\n",
       "      <td>0x0af8dd0b86f6bdc5ecc29ee8a587e5a5</td>\n",
       "      <td>2016-08-02 08:51:01.050</td>\n",
       "      <td>A10161</td>\n",
       "      <td>3.0</td>\n",
       "      <td>1.0</td>\n",
       "      <td>4001.0</td>\n",
       "      <td>1.0</td>\n",
       "      <td>1.0</td>\n",
       "      <td>58.0</td>\n",
       "      <td>...</td>\n",
       "      <td>60.0</td>\n",
       "      <td>27.0</td>\n",
       "      <td>0.0</td>\n",
       "      <td>2016-08-02</td>\n",
       "      <td>1.0</td>\n",
       "      <td>1.0</td>\n",
       "      <td>11.0</td>\n",
       "      <td>416.0</td>\n",
       "      <td>NC</td>\n",
       "      <td>0.0</td>\n",
       "    </tr>\n",
       "  </tbody>\n",
       "</table>\n",
       "<p>1 rows × 30 columns</p>\n",
       "</div>"
      ],
      "text/plain": [
       "   Unnamed: 0                      CustomerMD5Key         ReceivedDateTime  \\\n",
       "0           0  0x0af8dd0b86f6bdc5ecc29ee8a587e5a5  2016-08-02 08:51:01.050   \n",
       "\n",
       "     SCID  SelectedPackage  FirstDriverMaritalStatus  CarAnnualMileage  \\\n",
       "0  A10161              3.0                       1.0            4001.0   \n",
       "\n",
       "   CarFuelId  CarUsageId  FirstDriverAge       ...        SocioDemographicId  \\\n",
       "0        1.0         1.0            58.0       ...                      60.0   \n",
       "\n",
       "   PolicyHolderResidencyArea  AllDriversNbConvictions   TodayDate  \\\n",
       "0                       27.0                      0.0  2016-08-02   \n",
       "\n",
       "   RatedDriverNumber  IsPolicyholderAHomeowner  CarMakeId  \\\n",
       "0                1.0                       1.0       11.0   \n",
       "\n",
       "   DaysSinceCarPurchase  NameOfPolicyProduct  AffinityCodeId  \n",
       "0                 416.0                   NC             0.0  \n",
       "\n",
       "[1 rows x 30 columns]"
      ]
     },
     "execution_count": 193,
     "metadata": {},
     "output_type": "execute_result"
    }
   ],
   "source": [
    "X_train[:1]"
   ]
  },
  {
   "cell_type": "code",
   "execution_count": 195,
   "metadata": {
    "collapsed": false
   },
   "outputs": [
    {
     "data": {
      "text/plain": [
       "Index([u'Unnamed: 0', u'CustomerMD5Key', u'ReceivedDateTime', u'SCID',\n",
       "       u'SelectedPackage', u'FirstDriverMaritalStatus', u'CarAnnualMileage',\n",
       "       u'CarFuelId', u'CarUsageId', u'FirstDriverAge', u'CarInsuredValue',\n",
       "       u'CarAge', u'FirstDriverDrivingLicenseNumberY', u'VoluntaryExcess',\n",
       "       u'CarParkingTypeId', u'PolicyHolderNoClaimDiscountYears',\n",
       "       u'FirstDriverDrivingLicenceType', u'CoverIsNoClaimDiscountSelected',\n",
       "       u'CarDrivingEntitlement', u'CarTransmissionId', u'SocioDemographicId',\n",
       "       u'PolicyHolderResidencyArea', u'AllDriversNbConvictions', u'TodayDate',\n",
       "       u'RatedDriverNumber', u'IsPolicyholderAHomeowner', u'CarMakeId',\n",
       "       u'DaysSinceCarPurchase', u'NameOfPolicyProduct', u'AffinityCodeId'],\n",
       "      dtype='object')"
      ]
     },
     "execution_count": 195,
     "metadata": {},
     "output_type": "execute_result"
    }
   ],
   "source": [
    "X_train.columns"
   ]
  },
  {
   "cell_type": "code",
   "execution_count": 199,
   "metadata": {
    "collapsed": false
   },
   "outputs": [
    {
     "data": {
      "text/plain": [
       "0          0.000000\n",
       "1          0.000000\n",
       "2          0.000000\n",
       "3          0.000000\n",
       "4          0.000000\n",
       "5          0.000000\n",
       "6          0.000000\n",
       "7          0.000000\n",
       "8               NaN\n",
       "9          0.000000\n",
       "10         0.000000\n",
       "11         0.000000\n",
       "12         0.000000\n",
       "13         0.200000\n",
       "14         0.083333\n",
       "15         0.000000\n",
       "16         0.000000\n",
       "17         0.000000\n",
       "18         0.000000\n",
       "19         0.000000\n",
       "20         0.000000\n",
       "21         0.000000\n",
       "22         0.000000\n",
       "23         0.000000\n",
       "24         0.000000\n",
       "25         0.000000\n",
       "26         0.000000\n",
       "27         0.000000\n",
       "28         0.166667\n",
       "29         0.000000\n",
       "             ...   \n",
       "2911288    0.000000\n",
       "2911289    0.000000\n",
       "2911290    0.000000\n",
       "2911291    0.000000\n",
       "2911292    0.000000\n",
       "2911293         NaN\n",
       "2911294    0.000000\n",
       "2911295    0.000000\n",
       "2911296    0.000000\n",
       "2911297    0.000000\n",
       "2911298    0.000000\n",
       "2911299    0.000000\n",
       "2911300    0.000000\n",
       "2911301    0.000000\n",
       "2911302    0.000000\n",
       "2911303    0.000000\n",
       "2911304    0.000000\n",
       "2911305    0.000000\n",
       "2911306    0.000000\n",
       "2911307    0.000000\n",
       "2911308    0.000000\n",
       "2911309    0.000000\n",
       "2911310    0.000000\n",
       "2911311    0.000000\n",
       "2911312    0.000000\n",
       "2911313    0.000000\n",
       "2911314    0.000000\n",
       "2911315    0.000000\n",
       "2911316    0.000000\n",
       "2911317         inf\n",
       "dtype: float64"
      ]
     },
     "execution_count": 199,
     "metadata": {},
     "output_type": "execute_result"
    }
   ],
   "source": [
    "X_train[\"AllDriversNbConvictions\"] / X_train[\"CarAge\"]"
   ]
  },
  {
   "cell_type": "code",
   "execution_count": 126,
   "metadata": {
    "collapsed": false
   },
   "outputs": [
    {
     "data": {
      "text/html": [
       "<div>\n",
       "<table border=\"1\" class=\"dataframe\">\n",
       "  <thead>\n",
       "    <tr style=\"text-align: right;\">\n",
       "      <th></th>\n",
       "      <th>Unnamed: 0</th>\n",
       "      <th>Converted</th>\n",
       "    </tr>\n",
       "  </thead>\n",
       "  <tbody>\n",
       "    <tr>\n",
       "      <th>0</th>\n",
       "      <td>0</td>\n",
       "      <td>0.0</td>\n",
       "    </tr>\n",
       "    <tr>\n",
       "      <th>1</th>\n",
       "      <td>1</td>\n",
       "      <td>0.0</td>\n",
       "    </tr>\n",
       "    <tr>\n",
       "      <th>2</th>\n",
       "      <td>2</td>\n",
       "      <td>0.0</td>\n",
       "    </tr>\n",
       "  </tbody>\n",
       "</table>\n",
       "</div>"
      ],
      "text/plain": [
       "   Unnamed: 0  Converted\n",
       "0           0        0.0\n",
       "1           1        0.0\n",
       "2           2        0.0"
      ]
     },
     "execution_count": 126,
     "metadata": {},
     "output_type": "execute_result"
    }
   ],
   "source": [
    "y_train[:3]"
   ]
  },
  {
   "cell_type": "code",
   "execution_count": 127,
   "metadata": {
    "collapsed": false
   },
   "outputs": [],
   "source": [
    "# We just want the second column\n",
    "y_train = y_train[\"Converted\"]\n",
    "\n",
    "# But keep the ids too for submission\n",
    "ids = X_test[\"Unnamed: 0\"]\n",
    "# ids.rename(index=str, columns={\"Unnamed: 0\": \"CustomerMD5Key\"})\n",
    "ids = np.array(ids)\n",
    "\n",
    "y_train = np.array(y_train)"
   ]
  },
  {
   "cell_type": "code",
   "execution_count": 128,
   "metadata": {
    "collapsed": false
   },
   "outputs": [
    {
     "data": {
      "text/plain": [
       "(2911318,)"
      ]
     },
     "execution_count": 128,
     "metadata": {},
     "output_type": "execute_result"
    }
   ],
   "source": [
    "y_train.shape"
   ]
  },
  {
   "cell_type": "code",
   "execution_count": 129,
   "metadata": {
    "collapsed": false
   },
   "outputs": [
    {
     "data": {
      "text/plain": [
       "Unnamed: 0                            int64\n",
       "CustomerMD5Key                       object\n",
       "ReceivedDateTime                     object\n",
       "SCID                                 object\n",
       "SelectedPackage                     float64\n",
       "FirstDriverMaritalStatus            float64\n",
       "CarAnnualMileage                    float64\n",
       "CarFuelId                           float64\n",
       "CarUsageId                          float64\n",
       "FirstDriverAge                      float64\n",
       "CarInsuredValue                     float64\n",
       "CarAge                              float64\n",
       "FirstDriverDrivingLicenseNumberY    float64\n",
       "VoluntaryExcess                     float64\n",
       "CarParkingTypeId                    float64\n",
       "PolicyHolderNoClaimDiscountYears    float64\n",
       "FirstDriverDrivingLicenceType       float64\n",
       "CoverIsNoClaimDiscountSelected      float64\n",
       "CarDrivingEntitlement               float64\n",
       "CarTransmissionId                   float64\n",
       "SocioDemographicId                  float64\n",
       "PolicyHolderResidencyArea           float64\n",
       "AllDriversNbConvictions             float64\n",
       "TodayDate                            object\n",
       "RatedDriverNumber                   float64\n",
       "IsPolicyholderAHomeowner            float64\n",
       "CarMakeId                           float64\n",
       "DaysSinceCarPurchase                float64\n",
       "NameOfPolicyProduct                  object\n",
       "AffinityCodeId                      float64\n",
       "dtype: object"
      ]
     },
     "execution_count": 129,
     "metadata": {},
     "output_type": "execute_result"
    }
   ],
   "source": [
    "# Types of the data\n",
    "X_train.dtypes"
   ]
  },
  {
   "cell_type": "code",
   "execution_count": 130,
   "metadata": {
    "collapsed": false
   },
   "outputs": [],
   "source": [
    "# Get the all the coluymns that are float - ignoring object (string) for now\n",
    "X_train_float = X_train.loc[:, X_train.dtypes == float]\n",
    "X_test_float = X_test.loc[:, X_test.dtypes == float]"
   ]
  },
  {
   "cell_type": "code",
   "execution_count": 131,
   "metadata": {
    "collapsed": false
   },
   "outputs": [
    {
     "data": {
      "text/html": [
       "<div>\n",
       "<table border=\"1\" class=\"dataframe\">\n",
       "  <thead>\n",
       "    <tr style=\"text-align: right;\">\n",
       "      <th></th>\n",
       "      <th>SelectedPackage</th>\n",
       "      <th>FirstDriverMaritalStatus</th>\n",
       "      <th>CarAnnualMileage</th>\n",
       "      <th>CarFuelId</th>\n",
       "      <th>CarUsageId</th>\n",
       "      <th>FirstDriverAge</th>\n",
       "      <th>CarInsuredValue</th>\n",
       "      <th>CarAge</th>\n",
       "      <th>FirstDriverDrivingLicenseNumberY</th>\n",
       "      <th>VoluntaryExcess</th>\n",
       "      <th>...</th>\n",
       "      <th>CarDrivingEntitlement</th>\n",
       "      <th>CarTransmissionId</th>\n",
       "      <th>SocioDemographicId</th>\n",
       "      <th>PolicyHolderResidencyArea</th>\n",
       "      <th>AllDriversNbConvictions</th>\n",
       "      <th>RatedDriverNumber</th>\n",
       "      <th>IsPolicyholderAHomeowner</th>\n",
       "      <th>CarMakeId</th>\n",
       "      <th>DaysSinceCarPurchase</th>\n",
       "      <th>AffinityCodeId</th>\n",
       "    </tr>\n",
       "  </thead>\n",
       "  <tbody>\n",
       "    <tr>\n",
       "      <th>0</th>\n",
       "      <td>3.0</td>\n",
       "      <td>1.0</td>\n",
       "      <td>4001.0</td>\n",
       "      <td>1.0</td>\n",
       "      <td>1.0</td>\n",
       "      <td>58.0</td>\n",
       "      <td>3001.0</td>\n",
       "      <td>6.0</td>\n",
       "      <td>30.0</td>\n",
       "      <td>250.0</td>\n",
       "      <td>...</td>\n",
       "      <td>3.0</td>\n",
       "      <td>1.0</td>\n",
       "      <td>60.0</td>\n",
       "      <td>27.0</td>\n",
       "      <td>0.0</td>\n",
       "      <td>1.0</td>\n",
       "      <td>1.0</td>\n",
       "      <td>11.0</td>\n",
       "      <td>416.0</td>\n",
       "      <td>0.0</td>\n",
       "    </tr>\n",
       "    <tr>\n",
       "      <th>1</th>\n",
       "      <td>3.0</td>\n",
       "      <td>4.0</td>\n",
       "      <td>4001.0</td>\n",
       "      <td>1.0</td>\n",
       "      <td>4.0</td>\n",
       "      <td>55.0</td>\n",
       "      <td>0.0</td>\n",
       "      <td>14.0</td>\n",
       "      <td>30.0</td>\n",
       "      <td>200.0</td>\n",
       "      <td>...</td>\n",
       "      <td>1.0</td>\n",
       "      <td>1.0</td>\n",
       "      <td>99.0</td>\n",
       "      <td>24.0</td>\n",
       "      <td>0.0</td>\n",
       "      <td>1.0</td>\n",
       "      <td>1.0</td>\n",
       "      <td>32.0</td>\n",
       "      <td>435.0</td>\n",
       "      <td>63.0</td>\n",
       "    </tr>\n",
       "    <tr>\n",
       "      <th>2</th>\n",
       "      <td>3.0</td>\n",
       "      <td>1.0</td>\n",
       "      <td>5001.0</td>\n",
       "      <td>1.0</td>\n",
       "      <td>0.0</td>\n",
       "      <td>31.0</td>\n",
       "      <td>1001.0</td>\n",
       "      <td>10.0</td>\n",
       "      <td>8.0</td>\n",
       "      <td>250.0</td>\n",
       "      <td>...</td>\n",
       "      <td>1.0</td>\n",
       "      <td>1.0</td>\n",
       "      <td>77.0</td>\n",
       "      <td>52.0</td>\n",
       "      <td>0.0</td>\n",
       "      <td>1.0</td>\n",
       "      <td>1.0</td>\n",
       "      <td>41.0</td>\n",
       "      <td>1098.0</td>\n",
       "      <td>39.0</td>\n",
       "    </tr>\n",
       "    <tr>\n",
       "      <th>3</th>\n",
       "      <td>3.0</td>\n",
       "      <td>2.0</td>\n",
       "      <td>5001.0</td>\n",
       "      <td>2.0</td>\n",
       "      <td>4.0</td>\n",
       "      <td>52.0</td>\n",
       "      <td>23001.0</td>\n",
       "      <td>1.0</td>\n",
       "      <td>8.0</td>\n",
       "      <td>250.0</td>\n",
       "      <td>...</td>\n",
       "      <td>1.0</td>\n",
       "      <td>1.0</td>\n",
       "      <td>42.0</td>\n",
       "      <td>40.0</td>\n",
       "      <td>0.0</td>\n",
       "      <td>1.0</td>\n",
       "      <td>1.0</td>\n",
       "      <td>43.0</td>\n",
       "      <td>4.0</td>\n",
       "      <td>0.0</td>\n",
       "    </tr>\n",
       "    <tr>\n",
       "      <th>4</th>\n",
       "      <td>3.0</td>\n",
       "      <td>3.0</td>\n",
       "      <td>5001.0</td>\n",
       "      <td>1.0</td>\n",
       "      <td>1.0</td>\n",
       "      <td>29.0</td>\n",
       "      <td>2001.0</td>\n",
       "      <td>7.0</td>\n",
       "      <td>11.0</td>\n",
       "      <td>250.0</td>\n",
       "      <td>...</td>\n",
       "      <td>3.0</td>\n",
       "      <td>1.0</td>\n",
       "      <td>197.0</td>\n",
       "      <td>33.0</td>\n",
       "      <td>0.0</td>\n",
       "      <td>2.0</td>\n",
       "      <td>1.0</td>\n",
       "      <td>12.0</td>\n",
       "      <td>2107.0</td>\n",
       "      <td>31.0</td>\n",
       "    </tr>\n",
       "  </tbody>\n",
       "</table>\n",
       "<p>5 rows × 24 columns</p>\n",
       "</div>"
      ],
      "text/plain": [
       "   SelectedPackage  FirstDriverMaritalStatus  CarAnnualMileage  CarFuelId  \\\n",
       "0              3.0                       1.0            4001.0        1.0   \n",
       "1              3.0                       4.0            4001.0        1.0   \n",
       "2              3.0                       1.0            5001.0        1.0   \n",
       "3              3.0                       2.0            5001.0        2.0   \n",
       "4              3.0                       3.0            5001.0        1.0   \n",
       "\n",
       "   CarUsageId  FirstDriverAge  CarInsuredValue  CarAge  \\\n",
       "0         1.0            58.0           3001.0     6.0   \n",
       "1         4.0            55.0              0.0    14.0   \n",
       "2         0.0            31.0           1001.0    10.0   \n",
       "3         4.0            52.0          23001.0     1.0   \n",
       "4         1.0            29.0           2001.0     7.0   \n",
       "\n",
       "   FirstDriverDrivingLicenseNumberY  VoluntaryExcess       ...        \\\n",
       "0                              30.0            250.0       ...         \n",
       "1                              30.0            200.0       ...         \n",
       "2                               8.0            250.0       ...         \n",
       "3                               8.0            250.0       ...         \n",
       "4                              11.0            250.0       ...         \n",
       "\n",
       "   CarDrivingEntitlement  CarTransmissionId  SocioDemographicId  \\\n",
       "0                    3.0                1.0                60.0   \n",
       "1                    1.0                1.0                99.0   \n",
       "2                    1.0                1.0                77.0   \n",
       "3                    1.0                1.0                42.0   \n",
       "4                    3.0                1.0               197.0   \n",
       "\n",
       "   PolicyHolderResidencyArea  AllDriversNbConvictions  RatedDriverNumber  \\\n",
       "0                       27.0                      0.0                1.0   \n",
       "1                       24.0                      0.0                1.0   \n",
       "2                       52.0                      0.0                1.0   \n",
       "3                       40.0                      0.0                1.0   \n",
       "4                       33.0                      0.0                2.0   \n",
       "\n",
       "   IsPolicyholderAHomeowner  CarMakeId  DaysSinceCarPurchase  AffinityCodeId  \n",
       "0                       1.0       11.0                 416.0             0.0  \n",
       "1                       1.0       32.0                 435.0            63.0  \n",
       "2                       1.0       41.0                1098.0            39.0  \n",
       "3                       1.0       43.0                   4.0             0.0  \n",
       "4                       1.0       12.0                2107.0            31.0  \n",
       "\n",
       "[5 rows x 24 columns]"
      ]
     },
     "execution_count": 131,
     "metadata": {},
     "output_type": "execute_result"
    }
   ],
   "source": [
    "X_train_float.head()"
   ]
  },
  {
   "cell_type": "code",
   "execution_count": 132,
   "metadata": {
    "collapsed": false
   },
   "outputs": [
    {
     "data": {
      "text/plain": [
       "0.0"
      ]
     },
     "execution_count": 132,
     "metadata": {},
     "output_type": "execute_result"
    }
   ],
   "source": [
    "y_train[0]"
   ]
  },
  {
   "cell_type": "code",
   "execution_count": 133,
   "metadata": {
    "collapsed": false
   },
   "outputs": [],
   "source": [
    "# Now for some preprocessing\n",
    "from sklearn.preprocessing import StandardScaler\n",
    "from sklearn.preprocessing import Imputer\n",
    "\n",
    "sc = StandardScaler()\n",
    "im = Imputer()\n",
    "\n",
    "X_train_float = im.fit_transform(X_train_float)\n",
    "X_test_float = im.fit_transform(X_test_float)\n",
    "X_train_float_std = sc.fit_transform(X_train_float)\n",
    "X_test_float_std = sc.fit_transform(X_test_float)\n",
    "\n",
    "X_train_float = np.array(X_train_float)\n",
    "X_test_float = np.array(X_test_float)\n",
    "y_train = np.array(y_train)\n",
    "\n",
    "# Split the training data into validation data\n",
    "from sklearn.cross_validation import train_test_split\n",
    "X_train_float, X_valid_float, y_train, y_test = train_test_split(X_train_float, y_train, test_size = 0.2,\n",
    "                                                                           random_state=1)"
   ]
  },
  {
   "cell_type": "code",
   "execution_count": 134,
   "metadata": {
    "collapsed": false
   },
   "outputs": [
    {
     "data": {
      "text/plain": [
       "(2329054,)"
      ]
     },
     "execution_count": 134,
     "metadata": {},
     "output_type": "execute_result"
    }
   ],
   "source": [
    "X_train_float.shape\n",
    "y_train.shape"
   ]
  },
  {
   "cell_type": "code",
   "execution_count": 135,
   "metadata": {
    "collapsed": false
   },
   "outputs": [
    {
     "data": {
      "text/plain": [
       "array([[ 3.,  1.,  1., ...,  0.,  1.,  0.],\n",
       "       [ 3.,  1.,  1., ...,  0.,  1.,  1.],\n",
       "       [ 3.,  1.,  1., ...,  0.,  1.,  1.],\n",
       "       ..., \n",
       "       [ 3.,  2.,  1., ...,  0.,  1.,  1.],\n",
       "       [ 3.,  2.,  1., ...,  0.,  1.,  0.],\n",
       "       [ 3.,  2.,  1., ...,  0.,  3.,  1.]])"
      ]
     },
     "execution_count": 135,
     "metadata": {},
     "output_type": "execute_result"
    }
   ],
   "source": [
    "# Now run some very standard classifiers\n",
    "from sklearn.grid_search import GridSearchCV\n",
    "from sklearn.pipeline import Pipeline\n",
    "from sklearn.linear_model import LogisticRegression\n",
    "\n",
    "pipe_lr = Pipeline([(\"lr\", LogisticRegression())])\n",
    "pipe_lr.fit_transform(X_train_float, y_train)"
   ]
  },
  {
   "cell_type": "code",
   "execution_count": 171,
   "metadata": {
    "collapsed": false
   },
   "outputs": [
    {
     "name": "stdout",
     "output_type": "stream",
     "text": [
      "0.992350548892\n"
     ]
    }
   ],
   "source": [
    "print pipe_lr.score(X_valid_float, y_test)"
   ]
  },
  {
   "cell_type": "code",
   "execution_count": 172,
   "metadata": {
    "collapsed": true
   },
   "outputs": [],
   "source": [
    "pred = pipe_lr.predict_proba(X_test_float)"
   ]
  },
  {
   "cell_type": "code",
   "execution_count": 173,
   "metadata": {
    "collapsed": false
   },
   "outputs": [
    {
     "data": {
      "text/plain": [
       "(303913, 2)"
      ]
     },
     "execution_count": 173,
     "metadata": {},
     "output_type": "execute_result"
    }
   ],
   "source": [
    "pred.shape"
   ]
  },
  {
   "cell_type": "code",
   "execution_count": 174,
   "metadata": {
    "collapsed": false
   },
   "outputs": [
    {
     "data": {
      "text/plain": [
       "(10, 2)"
      ]
     },
     "execution_count": 174,
     "metadata": {},
     "output_type": "execute_result"
    }
   ],
   "source": [
    "pred[:10].shape\n",
    "\n",
    "# Now hstack with the ids\n"
   ]
  },
  {
   "cell_type": "code",
   "execution_count": 175,
   "metadata": {
    "collapsed": true
   },
   "outputs": [],
   "source": [
    "np.savetxt(\"predictions.csv\", pred, delimiter=\",\")"
   ]
  },
  {
   "cell_type": "code",
   "execution_count": 176,
   "metadata": {
    "collapsed": true
   },
   "outputs": [],
   "source": [
    "predictions = pd.read_csv(\"predictions.csv\")"
   ]
  },
  {
   "cell_type": "code",
   "execution_count": 177,
   "metadata": {
    "collapsed": false
   },
   "outputs": [
    {
     "data": {
      "text/html": [
       "<div>\n",
       "<table border=\"1\" class=\"dataframe\">\n",
       "  <thead>\n",
       "    <tr style=\"text-align: right;\">\n",
       "      <th></th>\n",
       "      <th>9.989289608243827612e-01</th>\n",
       "      <th>1.071039175617253788e-03</th>\n",
       "    </tr>\n",
       "  </thead>\n",
       "  <tbody>\n",
       "    <tr>\n",
       "      <th>0</th>\n",
       "      <td>0.996898</td>\n",
       "      <td>0.003102</td>\n",
       "    </tr>\n",
       "    <tr>\n",
       "      <th>1</th>\n",
       "      <td>0.996212</td>\n",
       "      <td>0.003788</td>\n",
       "    </tr>\n",
       "    <tr>\n",
       "      <th>2</th>\n",
       "      <td>0.996321</td>\n",
       "      <td>0.003679</td>\n",
       "    </tr>\n",
       "    <tr>\n",
       "      <th>3</th>\n",
       "      <td>0.998413</td>\n",
       "      <td>0.001587</td>\n",
       "    </tr>\n",
       "    <tr>\n",
       "      <th>4</th>\n",
       "      <td>0.994667</td>\n",
       "      <td>0.005333</td>\n",
       "    </tr>\n",
       "  </tbody>\n",
       "</table>\n",
       "</div>"
      ],
      "text/plain": [
       "   9.989289608243827612e-01  1.071039175617253788e-03\n",
       "0                  0.996898                  0.003102\n",
       "1                  0.996212                  0.003788\n",
       "2                  0.996321                  0.003679\n",
       "3                  0.998413                  0.001587\n",
       "4                  0.994667                  0.005333"
      ]
     },
     "execution_count": 177,
     "metadata": {},
     "output_type": "execute_result"
    }
   ],
   "source": [
    "predictions.head()"
   ]
  },
  {
   "cell_type": "code",
   "execution_count": 180,
   "metadata": {
    "collapsed": false
   },
   "outputs": [],
   "source": [
    "pred = pd.DataFrame(pred)\n",
    "pred = pd.DataFrame(pred[1])"
   ]
  },
  {
   "cell_type": "code",
   "execution_count": 181,
   "metadata": {
    "collapsed": false
   },
   "outputs": [],
   "source": [
    "pred.to_csv(\"Y_priv.predict\", headers=False, index=False)"
   ]
  },
  {
   "cell_type": "code",
   "execution_count": 183,
   "metadata": {
    "collapsed": false
   },
   "outputs": [
    {
     "data": {
      "text/html": [
       "<div>\n",
       "<table border=\"1\" class=\"dataframe\">\n",
       "  <thead>\n",
       "    <tr style=\"text-align: right;\">\n",
       "      <th></th>\n",
       "      <th>1</th>\n",
       "    </tr>\n",
       "  </thead>\n",
       "  <tbody>\n",
       "    <tr>\n",
       "      <th>0</th>\n",
       "      <td>0.001071</td>\n",
       "    </tr>\n",
       "    <tr>\n",
       "      <th>1</th>\n",
       "      <td>0.003102</td>\n",
       "    </tr>\n",
       "    <tr>\n",
       "      <th>2</th>\n",
       "      <td>0.003788</td>\n",
       "    </tr>\n",
       "    <tr>\n",
       "      <th>3</th>\n",
       "      <td>0.003679</td>\n",
       "    </tr>\n",
       "    <tr>\n",
       "      <th>4</th>\n",
       "      <td>0.001587</td>\n",
       "    </tr>\n",
       "  </tbody>\n",
       "</table>\n",
       "</div>"
      ],
      "text/plain": [
       "          1\n",
       "0  0.001071\n",
       "1  0.003102\n",
       "2  0.003788\n",
       "3  0.003679\n",
       "4  0.001587"
      ]
     },
     "execution_count": 183,
     "metadata": {},
     "output_type": "execute_result"
    }
   ],
   "source": [
    "predictions = pd.read_csv(\"Y_priv.predict\")\n",
    "predictions.head()"
   ]
  },
  {
   "cell_type": "code",
   "execution_count": 184,
   "metadata": {
    "collapsed": false
   },
   "outputs": [
    {
     "data": {
      "text/plain": [
       "(303913, 1)"
      ]
     },
     "execution_count": 184,
     "metadata": {},
     "output_type": "execute_result"
    }
   ],
   "source": [
    "predictions.shape"
   ]
  },
  {
   "cell_type": "code",
   "execution_count": 185,
   "metadata": {
    "collapsed": true
   },
   "outputs": [],
   "source": [
    "predictions = np.array(predictions)"
   ]
  },
  {
   "cell_type": "code",
   "execution_count": 186,
   "metadata": {
    "collapsed": false
   },
   "outputs": [
    {
     "data": {
      "text/plain": [
       "array([[ 0.00107104],\n",
       "       [ 0.00310208],\n",
       "       [ 0.0037884 ],\n",
       "       [ 0.00367919],\n",
       "       [ 0.0015866 ],\n",
       "       [ 0.00533308],\n",
       "       [ 0.02387653],\n",
       "       [ 0.01440345],\n",
       "       [ 0.00062359],\n",
       "       [ 0.00781427]])"
      ]
     },
     "execution_count": 186,
     "metadata": {},
     "output_type": "execute_result"
    }
   ],
   "source": [
    "predictions[:10]"
   ]
  },
  {
   "cell_type": "code",
   "execution_count": 188,
   "metadata": {
    "collapsed": false
   },
   "outputs": [],
   "source": [
    "np.savetxt(\"Y_priv.predict\", predictions)"
   ]
  },
  {
   "cell_type": "code",
   "execution_count": 190,
   "metadata": {
    "collapsed": false
   },
   "outputs": [
    {
     "data": {
      "text/plain": [
       "(303913, 1)"
      ]
     },
     "execution_count": 190,
     "metadata": {},
     "output_type": "execute_result"
    }
   ],
   "source": [
    "predictions.shape"
   ]
  },
  {
   "cell_type": "code",
   "execution_count": 191,
   "metadata": {
    "collapsed": false
   },
   "outputs": [
    {
     "data": {
      "text/plain": [
       "Index([u'Unnamed: 0', u'CustomerMD5Key', u'ReceivedDateTime', u'SCID',\n",
       "       u'SelectedPackage', u'FirstDriverMaritalStatus', u'CarAnnualMileage',\n",
       "       u'CarFuelId', u'CarUsageId', u'FirstDriverAge', u'CarInsuredValue',\n",
       "       u'CarAge', u'FirstDriverDrivingLicenseNumberY', u'VoluntaryExcess',\n",
       "       u'CarParkingTypeId', u'PolicyHolderNoClaimDiscountYears',\n",
       "       u'FirstDriverDrivingLicenceType', u'CoverIsNoClaimDiscountSelected',\n",
       "       u'CarDrivingEntitlement', u'CarTransmissionId', u'SocioDemographicId',\n",
       "       u'PolicyHolderResidencyArea', u'AllDriversNbConvictions', u'TodayDate',\n",
       "       u'RatedDriverNumber', u'IsPolicyholderAHomeowner', u'CarMakeId',\n",
       "       u'DaysSinceCarPurchase', u'NameOfPolicyProduct', u'AffinityCodeId'],\n",
       "      dtype='object')"
      ]
     },
     "execution_count": 191,
     "metadata": {},
     "output_type": "execute_result"
    }
   ],
   "source": [
    "X_train.columns"
   ]
  },
  {
   "cell_type": "code",
   "execution_count": null,
   "metadata": {
    "collapsed": true
   },
   "outputs": [],
   "source": []
  }
 ],
 "metadata": {
  "kernelspec": {
   "display_name": "Python 2",
   "language": "python",
   "name": "python2"
  },
  "language_info": {
   "codemirror_mode": {
    "name": "ipython",
    "version": 2
   },
   "file_extension": ".py",
   "mimetype": "text/x-python",
   "name": "python",
   "nbconvert_exporter": "python",
   "pygments_lexer": "ipython2",
   "version": "2.7.12"
  }
 },
 "nbformat": 4,
 "nbformat_minor": 0
}
