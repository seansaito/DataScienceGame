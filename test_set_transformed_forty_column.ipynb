{
 "cells": [
  {
   "cell_type": "code",
   "execution_count": 6,
   "metadata": {
    "collapsed": false
   },
   "outputs": [],
   "source": [
    "from __future__ import division\n",
    "import pickle\n",
    "import numpy as np\n",
    "%matplotlib inline\n",
    "import matplotlib.pyplot as plt\n",
    "import seaborn as sns\n",
    "sns.set(color_codes=True)\n",
    "import pandas as pd\n",
    "import scipy\n",
    "from scipy import stats"
   ]
  },
  {
   "cell_type": "code",
   "execution_count": 7,
   "metadata": {
    "collapsed": true
   },
   "outputs": [],
   "source": [
    "X_train = pd.read_csv(\"data/forty_column_dataset.csv\")\n",
    "X_test = pd.read_csv(\"data/X_priv.csv\")\n",
    "X_train_old = pd.read_csv(\"data/X_train.csv\")"
   ]
  },
  {
   "cell_type": "code",
   "execution_count": 8,
   "metadata": {
    "collapsed": false
   },
   "outputs": [
    {
     "data": {
      "text/plain": [
       "(302047, 28)"
      ]
     },
     "execution_count": 8,
     "metadata": {},
     "output_type": "execute_result"
    }
   ],
   "source": [
    "X_test.shape"
   ]
  },
  {
   "cell_type": "code",
   "execution_count": 9,
   "metadata": {
    "collapsed": false
   },
   "outputs": [],
   "source": [
    "del X_test['SelectedPackage']\n",
    "# del X_test['TodayDate']\n",
    "# del X_test['ReceivedDateTime']\n",
    "del X_test['Unnamed: 0']"
   ]
  },
  {
   "cell_type": "code",
   "execution_count": 10,
   "metadata": {
    "collapsed": false
   },
   "outputs": [],
   "source": [
    "npp_unique = np.unique(X_train_old['NameOfPolicyProduct'])\n",
    "updated_npp = np.array([np.arange(len(npp_unique))[np.array(val==npp_unique, dtype=bool)][0] for val in X_test['NameOfPolicyProduct']])\n",
    "X_test['NameOfPolicyProduct'] = updated_npp"
   ]
  },
  {
   "cell_type": "code",
   "execution_count": 11,
   "metadata": {
    "collapsed": false
   },
   "outputs": [
    {
     "name": "stderr",
     "output_type": "stream",
     "text": [
      "/Users/saito/.local/lib/python2.7/site-packages/numpy/lib/arraysetops.py:200: FutureWarning: numpy not_equal will not check object identity in the future. The comparison did not return the same result as suggested by the identity (`is`)) and will change.\n",
      "  flag = np.concatenate(([True], aux[1:] != aux[:-1]))\n"
     ]
    }
   ],
   "source": [
    "scid_unique = np.unique(X_train_old['SCID'])\n",
    "updated_scid = np.array([len(scid_unique)+1 if val not in scid_unique else \\\n",
    "                         np.arange(len(scid_unique))[np.array(val==scid_unique, dtype=bool)][0] for val in X_test['SCID']])\n",
    "X_test['SCID'] = updated_scid"
   ]
  },
  {
   "cell_type": "code",
   "execution_count": 12,
   "metadata": {
    "collapsed": true
   },
   "outputs": [],
   "source": [
    "ids = np.array(X_test['CustomerMD5Key'])"
   ]
  },
  {
   "cell_type": "code",
   "execution_count": 13,
   "metadata": {
    "collapsed": true
   },
   "outputs": [],
   "source": [
    "a = scipy.stats.itemfreq(ids)\n",
    "a_ids = np.array([x[0] for x in a])\n",
    "a_freq = np.array([int(x[1]) for x in a])\n",
    "\n",
    "keys = a_ids\n",
    "values = a_freq\n",
    "dictionary = dict(zip(keys, values))"
   ]
  },
  {
   "cell_type": "code",
   "execution_count": 14,
   "metadata": {
    "collapsed": true
   },
   "outputs": [],
   "source": [
    "customerkey_index = 0\n",
    "pp_index = np.arange(len(X_test.columns))[np.array(X_test.columns) =='NameOfPolicyProduct' ][0]\n",
    "\n",
    "master_pp = {i:[] for i in a_ids}\n",
    "\n",
    "for idx, i in enumerate(np.array(X_test)):\n",
    "    #if i[pp_index] not in master_pp[i[customerkey_index]]:\n",
    "    master_pp[i[customerkey_index]].append(i[pp_index])\n",
    "    \n",
    "num_unique_pols = np.array([len(np.unique(master_pp.get(i))) for i in X_test['CustomerMD5Key']] )\n",
    "num_total_pols =  np.array([len(master_pp.get(i)) for i in X_test['CustomerMD5Key']] )"
   ]
  },
  {
   "cell_type": "code",
   "execution_count": 15,
   "metadata": {
    "collapsed": true
   },
   "outputs": [],
   "source": [
    "cam_index = np.arange(len(X_test.columns))[np.array(X_test.columns) =='CarAnnualMileage'][0]\n",
    "cmi_index = np.arange(len(X_test.columns))[np.array(X_test.columns) =='CarMakeId'][0]\n",
    "ca_index = np.arange(len(X_test.columns))[np.array(X_test.columns) =='CarAge'][0]\n",
    "civ_index = np.arange(len(X_test.columns))[np.array(X_test.columns) =='CarInsuredValue'][0]\n",
    "\n",
    "master_cam = {i:[] for i in a_ids}\n",
    "master_cmi = {i:[] for i in a_ids}\n",
    "master_ca = {i:[] for i in a_ids}\n",
    "master_civ = {i:[] for i in a_ids}\n",
    "\n",
    "for idx, i in enumerate(np.array(X_test)):\n",
    "    master_cam[i[customerkey_index]].append(i[cam_index])\n",
    "    master_cmi[i[customerkey_index]].append(i[cmi_index])\n",
    "    master_ca[i[customerkey_index]].append(i[ca_index])\n",
    "    master_civ[i[customerkey_index]].append(i[civ_index])"
   ]
  },
  {
   "cell_type": "code",
   "execution_count": 16,
   "metadata": {
    "collapsed": true
   },
   "outputs": [],
   "source": [
    "num_unique_cam = np.array([len(np.unique(master_cam.get(i))) for i in X_test['CustomerMD5Key']] )\n",
    "num_unique_cmi = np.array([len(np.unique(master_cmi.get(i))) for i in X_test['CustomerMD5Key']] )\n",
    "num_unique_ca = np.array([len(np.unique(master_ca.get(i))) for i in X_test['CustomerMD5Key']] )\n",
    "num_unique_civ = np.array([len(np.unique(master_civ.get(i))) for i in X_test['CustomerMD5Key']] )"
   ]
  },
  {
   "cell_type": "code",
   "execution_count": 17,
   "metadata": {
    "collapsed": true
   },
   "outputs": [],
   "source": [
    "car_con_1 = (num_unique_ca!=num_unique_civ)\n",
    "car_con_2 = (num_unique_cam!=num_unique_civ)\n",
    "car_con_3 = (num_unique_cmi!=num_unique_civ)\n",
    "car_con_4 = (num_unique_cam!=num_unique_cmi)\n",
    "car_con_5 = (num_unique_ca!=num_unique_cmi)\n",
    "car_con_6 = (num_unique_cam!=num_unique_ca)"
   ]
  },
  {
   "cell_type": "code",
   "execution_count": 18,
   "metadata": {
    "collapsed": true
   },
   "outputs": [],
   "source": [
    "vendor_freq = scipy.stats.itemfreq(X_train['AffinityCodeId'])\n",
    "log_vf = np.array([np.log10(x[1]) for x in vendor_freq])\n",
    "vendor_keys = np.array([x[0] for x in vendor_freq])\n",
    "vendor_values = [0 if x<1.5 else 1 if (x>=1.5)&(x<4) else 2 for x in log_vf]\n",
    "vendor_dict  = dict(zip(vendor_keys, vendor_values))\n",
    "vendor_log_sales = np.array([vendor_dict.get(x) for x in X_test['AffinityCodeId']])"
   ]
  },
  {
   "cell_type": "code",
   "execution_count": 19,
   "metadata": {
    "collapsed": true
   },
   "outputs": [],
   "source": [
    "vendor_values_unlogged = np.array([x[1] for x in vendor_freq])\n",
    "success_mask = np.array(X_train['labels']==1)\n",
    "vendor_success_scipy = scipy.stats.itemfreq(X_train['AffinityCodeId'][success_mask])\n",
    "vendor_success_names = np.array([x[0] for x in vendor_success_scipy])\n",
    "vendor_success_freqs = np.array([x[1] for x in vendor_success_scipy])\n",
    "vendor_success_rates = np.array([0 if x not in vendor_success_names else \\\n",
    "                        vendor_success_freqs[vendor_success_names==x][0]/y  for x,y in zip(vendor_keys, vendor_values_unlogged)])\n",
    "vendor_success_dict  = dict(zip(vendor_keys, vendor_success_rates))\n",
    "vendor_success_final = np.array([vendor_success_dict.get(x) for x in X_test['AffinityCodeId']])"
   ]
  },
  {
   "cell_type": "code",
   "execution_count": 20,
   "metadata": {
    "collapsed": true
   },
   "outputs": [],
   "source": [
    "annual_milage_per_age = X_test['CarAnnualMileage']/(X_test['CarAge']+2)\n",
    "voluntary_payment_per_value = X_test['VoluntaryExcess']/(X_test['CarInsuredValue']+1)\n",
    "\n",
    "X_test['voluntary_payment_per_value'] = voluntary_payment_per_value\n",
    "X_test['annual_milage_per_age'] = annual_milage_per_age\n",
    "X_test['vendor_success_rate'] = vendor_success_final\n",
    "X_test['vendor_log_sales'] = vendor_log_sales\n",
    "\n",
    "X_test['age_minus_policy'] = X_test['FirstDriverAge'] - X_test['PolicyHolderNoClaimDiscountYears']\n",
    "\n",
    "X_test['num_unique_pols'] = num_unique_pols\n",
    "X_test['num_total_pols'] = num_total_pols \n",
    "\n",
    "X_test['car_flag_1'] = car_con_1\n",
    "X_test['car_flag_2'] = car_con_2\n",
    "X_test['car_flag_3'] = car_con_3\n",
    "X_test['car_flag_4'] = car_con_4\n",
    "X_test['car_flag_5'] = car_con_5\n",
    "X_test['car_flag_6'] = car_con_6"
   ]
  },
  {
   "cell_type": "code",
   "execution_count": 21,
   "metadata": {
    "collapsed": false
   },
   "outputs": [],
   "source": [
    "X_test.replace([np.inf, -np.inf], np.nan)\n",
    "X_test = X_test.fillna(method = 'ffill')"
   ]
  },
  {
   "cell_type": "code",
   "execution_count": 22,
   "metadata": {
    "collapsed": true
   },
   "outputs": [],
   "source": [
    "np.savez_compressed('juice_test.npz', X_test.ix[:, (X_test.columns != 'CustomerMD5Key')])"
   ]
  },
  {
   "cell_type": "code",
   "execution_count": 23,
   "metadata": {
    "collapsed": false
   },
   "outputs": [],
   "source": [
    "# X_train.columns"
   ]
  },
  {
   "cell_type": "code",
   "execution_count": 24,
   "metadata": {
    "collapsed": false
   },
   "outputs": [],
   "source": [
    "# X_test.ix[:, (X_test.columns != 'CustomerMD5Key')].columns"
   ]
  },
  {
   "cell_type": "code",
   "execution_count": 25,
   "metadata": {
    "collapsed": false
   },
   "outputs": [],
   "source": [
    "# X_test.shape"
   ]
  },
  {
   "cell_type": "code",
   "execution_count": 26,
   "metadata": {
    "collapsed": false
   },
   "outputs": [],
   "source": [
    "# X_train.shape"
   ]
  },
  {
   "cell_type": "code",
   "execution_count": 27,
   "metadata": {
    "collapsed": false
   },
   "outputs": [],
   "source": [
    "# plt.hist(X_train['SCID'])\n",
    "# plt.show()\n",
    "# plt.hist(X_test['SCID'])"
   ]
  },
  {
   "cell_type": "code",
   "execution_count": 28,
   "metadata": {
    "collapsed": true
   },
   "outputs": [],
   "source": [
    "forty_col_test = np.load('juice_test.npz')"
   ]
  },
  {
   "cell_type": "code",
   "execution_count": 29,
   "metadata": {
    "collapsed": false,
    "scrolled": true
   },
   "outputs": [],
   "source": [
    "# forty_col_test['arr_0'].shape()"
   ]
  },
  {
   "cell_type": "code",
   "execution_count": 30,
   "metadata": {
    "collapsed": true
   },
   "outputs": [],
   "source": [
    "X_test.to_csv(\"juice_test.csv\")"
   ]
  },
  {
   "cell_type": "code",
   "execution_count": 31,
   "metadata": {
    "collapsed": false
   },
   "outputs": [],
   "source": [
    "c = X_test"
   ]
  },
  {
   "cell_type": "code",
   "execution_count": 32,
   "metadata": {
    "collapsed": false
   },
   "outputs": [],
   "source": [
    "# c.shape"
   ]
  },
  {
   "cell_type": "code",
   "execution_count": 33,
   "metadata": {
    "collapsed": false
   },
   "outputs": [],
   "source": [
    "# X_test"
   ]
  },
  {
   "cell_type": "code",
   "execution_count": null,
   "metadata": {
    "collapsed": true
   },
   "outputs": [],
   "source": []
  }
 ],
 "metadata": {
  "kernelspec": {
   "display_name": "Python 2",
   "language": "python",
   "name": "python2"
  },
  "language_info": {
   "codemirror_mode": {
    "name": "ipython",
    "version": 2
   },
   "file_extension": ".py",
   "mimetype": "text/x-python",
   "name": "python",
   "nbconvert_exporter": "python",
   "pygments_lexer": "ipython2",
   "version": "2.7.12"
  }
 },
 "nbformat": 4,
 "nbformat_minor": 0
}
