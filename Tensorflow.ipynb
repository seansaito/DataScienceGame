{
 "cells": [
  {
   "cell_type": "code",
   "execution_count": 2,
   "metadata": {
    "collapsed": true
   },
   "outputs": [],
   "source": [
    "import tensorflow as tf\n",
    "import numpy as np\n",
    "import pandas as pd\n",
    "import csv, joblib\n",
    "from sklearn.cross_validation import train_test_split\n",
    "from data_iterator import SequentialIterator"
   ]
  },
  {
   "cell_type": "code",
   "execution_count": null,
   "metadata": {
    "collapsed": true
   },
   "outputs": [],
   "source": [
    "# Load the data here\n",
    "\n",
    "X_train\n",
    "X_valid\n",
    "X_test\n",
    "y_train\n",
    "y_valid\n",
    "\n",
    "# Params\n",
    "x_dim = 1000\n",
    "batchsize = 500\n",
    "\n",
    "x_ph = tf.placeholder(tf.float32, [None, x_dim])\n",
    "y_ph = tf.placeholder(tf.float32, [None, 1])\n",
    "\n",
    "interm_dimension = 20\n",
    "\n",
    "W_1 = tf.Variable(tf.random_normal[x_dim, interm_dimension])\n",
    "b_1 = tf.Variable(tf.random_normal[interm_dimension])\n",
    "\n",
    "interm_1 = tf.nn.relu(tf.matmul(x, W_1) + b_1)\n",
    "\n",
    "W_2 = tf.Variable(tf.random_normal[interm_dimension, 1])\n",
    "b_2 = tf.Variable(tf.random_normal[interm_dimension])\n",
    "\n",
    "y = tf.sigmoid(tf.matmul(tf.matmul(interm_1, W_2) + b_2))\n",
    "\n",
    "mse = tf.reduce_mean((y_ph - y) ** 2)\n",
    "optimizer = tf.train.AdamOptimizer(learning_rate).minimize(mse)\n",
    "\n"
   ]
  },
  {
   "cell_type": "code",
   "execution_count": null,
   "metadata": {
    "collapsed": true
   },
   "outputs": [],
   "source": [
    "# Training\n",
    "\n",
    "data = SequentialIterator(X_train, y_train, batchsize=batchsize)\n",
    "\n",
    "init = tf.initialize_all_variables()\n",
    "sess = tf.Session()\n",
    "sess.run(init)\n",
    "\n",
    "i = 0\n",
    "for x_batch, y_batch in data:\n",
    "    print '[Iteration Number %d]' % i\n",
    "    i += 1\n",
    "    feed_dict = {x_ph: x_batch, y_ph:y_batch}\n",
    "    sess.run(optimizer, feed_dict=feed_dict)\n",
    "    loss = sess.run(mse, feed_dict=feed_dict)\n",
    "    print \"[Loss] %.3f\" % loss"
   ]
  },
  {
   "cell_type": "code",
   "execution_count": null,
   "metadata": {
    "collapsed": true
   },
   "outputs": [],
   "source": [
    "# Inference\n",
    "loss = sess.run(mse, feed_dict={x_ph: X_valid, y_ph: y_valid})\n",
    "# prediction_error = tf.log(tf.reduce_sum(tf.sub(y_valid - predictions)))\n",
    "print \"Loss on valid set: %.3f\" % loss"
   ]
  }
 ],
 "metadata": {
  "kernelspec": {
   "display_name": "Python 2",
   "language": "python",
   "name": "python2"
  },
  "language_info": {
   "codemirror_mode": {
    "name": "ipython",
    "version": 2
   },
   "file_extension": ".py",
   "mimetype": "text/x-python",
   "name": "python",
   "nbconvert_exporter": "python",
   "pygments_lexer": "ipython2",
   "version": "2.7.12"
  }
 },
 "nbformat": 4,
 "nbformat_minor": 0
}
