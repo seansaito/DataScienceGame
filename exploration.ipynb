{
 "cells": [
  {
   "cell_type": "code",
   "execution_count": 1,
   "metadata": {
    "collapsed": false
   },
   "outputs": [],
   "source": [
    "from __future__ import division\n",
    "import pickle\n",
    "import numpy as np\n",
    "%matplotlib inline\n",
    "import matplotlib.pyplot as plt\n",
    "import seaborn as sns\n",
    "sns.set(color_codes=True)\n",
    "import sklearn\n",
    "from sklearn.cross_validation import train_test_split\n",
    "from sklearn.preprocessing import StandardScaler\n",
    "from sklearn.datasets import make_moons, make_circles, make_classification\n",
    "from sklearn.neighbors import KNeighborsClassifier\n",
    "from sklearn.svm import SVC\n",
    "from sklearn.tree import DecisionTreeClassifier\n",
    "from sklearn.ensemble import RandomForestClassifier, AdaBoostClassifier\n",
    "from sklearn.naive_bayes import GaussianNB\n",
    "from sklearn.discriminant_analysis import LinearDiscriminantAnalysis\n",
    "from sklearn.discriminant_analysis import QuadraticDiscriminantAnalysis\n",
    "from sklearn.grid_search import GridSearchCV\n",
    "from sklearn.neural_network import *\n",
    "from sklearn.cross_validation import cross_val_score\n",
    "from sklearn.metrics import roc_curve, auc\n",
    "import pandas as pd\n",
    "import scipy\n",
    "from scipy import stats"
   ]
  },
  {
   "cell_type": "code",
   "execution_count": 2,
   "metadata": {
    "collapsed": false
   },
   "outputs": [],
   "source": [
    "X_train = pd.read_csv(\"data/X_train.csv\")\n",
    "Y_train = pd.read_csv(\"data/Y_train.csv\")"
   ]
  },
  {
   "cell_type": "code",
   "execution_count": 4,
   "metadata": {
    "collapsed": false
   },
   "outputs": [
    {
     "data": {
      "text/plain": [
       "Index([u'Unnamed: 0', u'CustomerMD5Key', u'ReceivedDateTime', u'SCID',\n",
       "       u'SelectedPackage', u'FirstDriverMaritalStatus', u'CarAnnualMileage',\n",
       "       u'CarFuelId', u'CarUsageId', u'FirstDriverAge', u'CarInsuredValue',\n",
       "       u'CarAge', u'FirstDriverDrivingLicenseNumberY', u'VoluntaryExcess',\n",
       "       u'CarParkingTypeId', u'PolicyHolderNoClaimDiscountYears',\n",
       "       u'FirstDriverDrivingLicenceType', u'CoverIsNoClaimDiscountSelected',\n",
       "       u'CarDrivingEntitlement', u'CarTransmissionId', u'SocioDemographicId',\n",
       "       u'PolicyHolderResidencyArea', u'AllDriversNbConvictions', u'TodayDate',\n",
       "       u'RatedDriverNumber', u'IsPolicyholderAHomeowner', u'CarMakeId',\n",
       "       u'DaysSinceCarPurchase', u'NameOfPolicyProduct', u'AffinityCodeId'],\n",
       "      dtype='object')"
      ]
     },
     "execution_count": 4,
     "metadata": {},
     "output_type": "execute_result"
    }
   ],
   "source": [
    "X_train.columns"
   ]
  },
  {
   "cell_type": "code",
   "execution_count": 8,
   "metadata": {
    "collapsed": false
   },
   "outputs": [
    {
     "data": {
      "text/plain": [
       "((2911318, 30), (2911318, 2))"
      ]
     },
     "execution_count": 8,
     "metadata": {},
     "output_type": "execute_result"
    }
   ],
   "source": [
    "X_train.shape, Y_train.shape"
   ]
  },
  {
   "cell_type": "code",
   "execution_count": 9,
   "metadata": {
    "collapsed": false
   },
   "outputs": [],
   "source": [
    "del X_train['SelectedPackage']\n",
    "del X_train['TodayDate']\n",
    "del X_train['ReceivedDateTime']\n",
    "del X_train['Unnamed: 0']\n",
    "del Y_train['Unnamed: 0']\n",
    "X_train['labels'] = Y_train['Converted']"
   ]
  },
  {
   "cell_type": "code",
   "execution_count": 10,
   "metadata": {
    "collapsed": false
   },
   "outputs": [
    {
     "data": {
      "text/plain": [
       "(2911318, 27)"
      ]
     },
     "execution_count": 10,
     "metadata": {},
     "output_type": "execute_result"
    }
   ],
   "source": [
    "X_train.shape"
   ]
  },
  {
   "cell_type": "code",
   "execution_count": 11,
   "metadata": {
    "collapsed": false
   },
   "outputs": [],
   "source": [
    "X_train = X_train.dropna()"
   ]
  },
  {
   "cell_type": "code",
   "execution_count": 12,
   "metadata": {
    "collapsed": false
   },
   "outputs": [
    {
     "data": {
      "text/plain": [
       "(2911270, 27)"
      ]
     },
     "execution_count": 12,
     "metadata": {},
     "output_type": "execute_result"
    }
   ],
   "source": [
    "X_train.shape"
   ]
  },
  {
   "cell_type": "code",
   "execution_count": 13,
   "metadata": {
    "collapsed": false
   },
   "outputs": [],
   "source": [
    "npp_unique = np.unique(X_train['NameOfPolicyProduct'])\n",
    "updated_npp = np.array([np.arange(len(npp_unique))[np.array(val==npp_unique, dtype=bool)][0] for val in X_train['NameOfPolicyProduct']])\n",
    "X_train['NameOfPolicyProduct'] = updated_npp"
   ]
  },
  {
   "cell_type": "code",
   "execution_count": 14,
   "metadata": {
    "collapsed": false
   },
   "outputs": [],
   "source": [
    "scid_unique = np.unique(X_train['SCID'])\n",
    "updated_scid = np.array([np.arange(len(scid_unique))[np.array(val==scid_unique, dtype=bool) ][0] for val in X_train['SCID']])\n",
    "X_train['SCID'] = updated_scid"
   ]
  },
  {
   "cell_type": "code",
   "execution_count": 15,
   "metadata": {
    "collapsed": true
   },
   "outputs": [],
   "source": [
    "ids = X_train['CustomerMD5Key']\n",
    "#del X_train['CustomerMD5Key']"
   ]
  },
  {
   "cell_type": "code",
   "execution_count": 182,
   "metadata": {
    "collapsed": true
   },
   "outputs": [],
   "source": [
    "np.savez_compressed('processed_data_2.npz', X_train.ix[:, check.columns != 'labels'] , check['labels'])\n",
    "np.savez_compressed('ids_list_2.npz', ids)"
   ]
  },
  {
   "cell_type": "code",
   "execution_count": 16,
   "metadata": {
    "collapsed": false
   },
   "outputs": [],
   "source": [
    "a = scipy.stats.itemfreq(ids)\n",
    "a_ids = np.array([x[0] for x in a])\n",
    "a_freq = np.array([int(x[1]) for x in a])"
   ]
  },
  {
   "cell_type": "code",
   "execution_count": 17,
   "metadata": {
    "collapsed": false
   },
   "outputs": [
    {
     "data": {
      "text/plain": [
       "Index([u'CustomerMD5Key', u'SCID', u'FirstDriverMaritalStatus',\n",
       "       u'CarAnnualMileage', u'CarFuelId', u'CarUsageId', u'FirstDriverAge',\n",
       "       u'CarInsuredValue', u'CarAge', u'FirstDriverDrivingLicenseNumberY',\n",
       "       u'VoluntaryExcess', u'CarParkingTypeId',\n",
       "       u'PolicyHolderNoClaimDiscountYears', u'FirstDriverDrivingLicenceType',\n",
       "       u'CoverIsNoClaimDiscountSelected', u'CarDrivingEntitlement',\n",
       "       u'CarTransmissionId', u'SocioDemographicId',\n",
       "       u'PolicyHolderResidencyArea', u'AllDriversNbConvictions',\n",
       "       u'RatedDriverNumber', u'IsPolicyholderAHomeowner', u'CarMakeId',\n",
       "       u'DaysSinceCarPurchase', u'NameOfPolicyProduct', u'AffinityCodeId',\n",
       "       u'labels'],\n",
       "      dtype='object')"
      ]
     },
     "execution_count": 17,
     "metadata": {},
     "output_type": "execute_result"
    }
   ],
   "source": [
    "X_train.columns"
   ]
  },
  {
   "cell_type": "code",
   "execution_count": 18,
   "metadata": {
    "collapsed": false
   },
   "outputs": [
    {
     "data": {
      "text/plain": [
       "array([[      0,       4],\n",
       "       [      1,      70],\n",
       "       [      2, 1596057],\n",
       "       [      3,   28486],\n",
       "       [      4,     169],\n",
       "       [      5,     165],\n",
       "       [      6,     167],\n",
       "       [      7,  312613],\n",
       "       [      8,    4947],\n",
       "       [      9,   19904],\n",
       "       [     10,  327289],\n",
       "       [     11,  372205],\n",
       "       [     12,   98402],\n",
       "       [     13,   98108],\n",
       "       [     14,   22580],\n",
       "       [     15,     845],\n",
       "       [     16,   29259]], dtype=int64)"
      ]
     },
     "execution_count": 18,
     "metadata": {},
     "output_type": "execute_result"
    }
   ],
   "source": [
    "scipy.stats.itemfreq(X_train['NameOfPolicyProduct'])"
   ]
  },
  {
   "cell_type": "code",
   "execution_count": 22,
   "metadata": {
    "collapsed": false
   },
   "outputs": [],
   "source": [
    "keys = a_ids\n",
    "values = a_freq\n",
    "dictionary = dict(zip(keys, values))"
   ]
  },
  {
   "cell_type": "code",
   "execution_count": 23,
   "metadata": {
    "collapsed": false
   },
   "outputs": [],
   "source": [
    "ids_freq_matched = np.array([dictionary.get(x) for x in ids])"
   ]
  },
  {
   "cell_type": "code",
   "execution_count": 24,
   "metadata": {
    "collapsed": false
   },
   "outputs": [],
   "source": [
    "a_ids = np.array(a_ids)\n",
    "ids = np.array(ids)"
   ]
  },
  {
   "cell_type": "code",
   "execution_count": 21,
   "metadata": {
    "collapsed": true
   },
   "outputs": [],
   "source": [
    "master = {i:[] for i in a_ids}\n",
    "\n",
    "for idx, i in enumerate(ids):\n",
    "    master[i].append(idx)"
   ]
  },
  {
   "cell_type": "code",
   "execution_count": 26,
   "metadata": {
    "collapsed": true
   },
   "outputs": [],
   "source": [
    "X_train['CustomerMD5Key'] = ids"
   ]
  },
  {
   "cell_type": "code",
   "execution_count": 27,
   "metadata": {
    "collapsed": false
   },
   "outputs": [
    {
     "data": {
      "text/plain": [
       "Index([u'CustomerMD5Key', u'SCID', u'FirstDriverMaritalStatus',\n",
       "       u'CarAnnualMileage', u'CarFuelId', u'CarUsageId', u'FirstDriverAge',\n",
       "       u'CarInsuredValue', u'CarAge', u'FirstDriverDrivingLicenseNumberY',\n",
       "       u'VoluntaryExcess', u'CarParkingTypeId',\n",
       "       u'PolicyHolderNoClaimDiscountYears', u'FirstDriverDrivingLicenceType',\n",
       "       u'CoverIsNoClaimDiscountSelected', u'CarDrivingEntitlement',\n",
       "       u'CarTransmissionId', u'SocioDemographicId',\n",
       "       u'PolicyHolderResidencyArea', u'AllDriversNbConvictions',\n",
       "       u'RatedDriverNumber', u'IsPolicyholderAHomeowner', u'CarMakeId',\n",
       "       u'DaysSinceCarPurchase', u'NameOfPolicyProduct', u'AffinityCodeId',\n",
       "       u'labels'],\n",
       "      dtype='object')"
      ]
     },
     "execution_count": 27,
     "metadata": {},
     "output_type": "execute_result"
    }
   ],
   "source": [
    "X_train.columns"
   ]
  },
  {
   "cell_type": "code",
   "execution_count": 39,
   "metadata": {
    "collapsed": true
   },
   "outputs": [],
   "source": [
    "customerkey_index = 0\n",
    "pp_index = np.arange(len(X_train.columns))[np.array(X_train.columns) =='NameOfPolicyProduct' ][0]"
   ]
  },
  {
   "cell_type": "code",
   "execution_count": 51,
   "metadata": {
    "collapsed": false
   },
   "outputs": [],
   "source": [
    "master_pp = {i:[] for i in a_ids}\n",
    "\n",
    "for idx, i in enumerate(np.array(X_train)):\n",
    "    #if i[pp_index] not in master_pp[i[customerkey_index]]:\n",
    "    master_pp[i[customerkey_index]].append(i[pp_index])"
   ]
  },
  {
   "cell_type": "code",
   "execution_count": 53,
   "metadata": {
    "collapsed": true
   },
   "outputs": [],
   "source": [
    "num_unique_pols = np.array([len(np.unique(master_pp.get(i))) for i in X_train['CustomerMD5Key']] )"
   ]
  },
  {
   "cell_type": "code",
   "execution_count": 67,
   "metadata": {
    "collapsed": false
   },
   "outputs": [],
   "source": [
    "num_total_pols =  np.array([len(master_pp.get(i)) for i in X_train['CustomerMD5Key']] )"
   ]
  },
  {
   "cell_type": "code",
   "execution_count": null,
   "metadata": {
    "collapsed": true
   },
   "outputs": [],
   "source": [
    "#num_unique_pols = np.array([ len(np.unique(np.array(X_train['NameOfPolicyProduct'])[master.get(t)]))  for t in ids])\n",
    "#num_total_pols =  np.array([ len(X_train['NameOfPolicyProduct'][master.get(t)]) for t in ids])"
   ]
  },
  {
   "cell_type": "code",
   "execution_count": null,
   "metadata": {
    "collapsed": true
   },
   "outputs": [],
   "source": [
    "'CarAnnualMileage', 'CarFuelId', 'CarUsageId', 'CarParkingTypeId', 'CarMakeId', 'CarInsuredValue', 'CarAge'"
   ]
  },
  {
   "cell_type": "code",
   "execution_count": 88,
   "metadata": {
    "collapsed": true
   },
   "outputs": [],
   "source": [
    "customerkey_index = 0\n",
    "# cam_index = np.arange(len(X_train.columns))[np.array(X_train.columns) =='CarAnnualMileage'][0]\n",
    "# cmi_index = np.arange(len(X_train.columns))[np.array(X_train.columns) =='CarMakeId'][0]\n",
    "ca_index = np.arange(len(X_train.columns))[np.array(X_train.columns) =='CarAge'][0]\n",
    "civ_index = np.arange(len(X_train.columns))[np.array(X_train.columns) =='CarInsuredValue'][0]\n",
    "\n",
    "# master_cam = {i:[] for i in a_ids}\n",
    "# master_cmi = {i:[] for i in a_ids}\n",
    "master_ca = {i:[] for i in a_ids}\n",
    "master_civ = {i:[] for i in a_ids}\n",
    "\n",
    "for idx, i in enumerate(np.array(X_train)):\n",
    "    #master_cam[i[customerkey_index]].append(i[cam_index])\n",
    "    #master_cmi[i[customerkey_index]].append(i[cmi_index])\n",
    "    master_ca[i[customerkey_index]].append(i[ca_index])\n",
    "    master_civ[i[customerkey_index]].append(i[civ_index])"
   ]
  },
  {
   "cell_type": "code",
   "execution_count": 89,
   "metadata": {
    "collapsed": false
   },
   "outputs": [],
   "source": [
    "#num_unique_cam = np.array([len(np.unique(master_cam.get(i))) for i in X_train['CustomerMD5Key']] )\n",
    "#num_unique_cmi = np.array([len(np.unique(master_cmi.get(i))) for i in X_train['CustomerMD5Key']] )\n",
    "num_unique_ca = np.array([len(np.unique(master_ca.get(i))) for i in X_train['CustomerMD5Key']] )\n",
    "num_unique_civ = np.array([len(np.unique(master_civ.get(i))) for i in X_train['CustomerMD5Key']] )"
   ]
  },
  {
   "cell_type": "code",
   "execution_count": 92,
   "metadata": {
    "collapsed": false
   },
   "outputs": [
    {
     "data": {
      "text/plain": [
       "array([[  0.00000000e+00,   2.88857000e+06],\n",
       "       [  1.00000000e+00,   2.27000000e+04]])"
      ]
     },
     "execution_count": 92,
     "metadata": {},
     "output_type": "execute_result"
    }
   ],
   "source": [
    "scipy.stats.itemfreq(X_train['labels'])"
   ]
  },
  {
   "cell_type": "code",
   "execution_count": 115,
   "metadata": {
    "collapsed": true
   },
   "outputs": [],
   "source": [
    "car_con_1 = (num_unique_ca!=num_unique_civ)\n",
    "car_con_2 = (num_unique_cam!=num_unique_civ)\n",
    "car_con_3 = (num_unique_cmi!=num_unique_civ)\n",
    "car_con_4 = (num_unique_cam!=num_unique_cmi)\n",
    "car_con_5 = (num_unique_ca!=num_unique_cmi)\n",
    "car_con_6 = (num_unique_cam!=num_unique_ca)"
   ]
  },
  {
   "cell_type": "code",
   "execution_count": 119,
   "metadata": {
    "collapsed": false
   },
   "outputs": [
    {
     "data": {
      "text/plain": [
       "array([[  0.00000000e+00,   1.13743400e+06],\n",
       "       [  1.00000000e+00,   1.00000000e+00],\n",
       "       [  3.00000000e+00,   5.17530000e+04],\n",
       "       [  4.00000000e+00,   1.00000000e+00],\n",
       "       [  6.00000000e+00,   1.00000000e+00],\n",
       "       [  7.00000000e+00,   1.00000000e+00],\n",
       "       [  9.00000000e+00,   2.00000000e+00],\n",
       "       [  1.00000000e+01,   1.00000000e+00],\n",
       "       [  1.10000000e+01,   1.21000000e+02],\n",
       "       [  1.20000000e+01,   2.00000000e+00],\n",
       "       [  1.30000000e+01,   5.36350000e+04],\n",
       "       [  1.40000000e+01,   5.42430000e+04],\n",
       "       [  1.70000000e+01,   1.00000000e+00],\n",
       "       [  1.80000000e+01,   2.00000000e+00],\n",
       "       [  1.90000000e+01,   1.00000000e+00],\n",
       "       [  2.00000000e+01,   5.08550000e+04],\n",
       "       [  2.20000000e+01,   5.41700000e+04],\n",
       "       [  2.30000000e+01,   1.74280000e+04],\n",
       "       [  2.60000000e+01,   5.20270000e+04],\n",
       "       [  2.70000000e+01,   1.00000000e+00],\n",
       "       [  2.80000000e+01,   9.94600000e+03],\n",
       "       [  2.90000000e+01,   9.07410000e+04],\n",
       "       [  3.00000000e+01,   4.35690000e+04],\n",
       "       [  3.10000000e+01,   4.49805000e+05],\n",
       "       [  3.40000000e+01,   1.00000000e+00],\n",
       "       [  3.70000000e+01,   7.00000000e+00],\n",
       "       [  3.80000000e+01,   4.02660000e+04],\n",
       "       [  3.90000000e+01,   1.97408000e+05],\n",
       "       [  4.00000000e+01,   1.00000000e+00],\n",
       "       [  4.20000000e+01,   1.14000000e+02],\n",
       "       [  4.30000000e+01,   2.11720000e+04],\n",
       "       [  4.40000000e+01,   1.53900000e+03],\n",
       "       [  4.50000000e+01,   2.60000000e+01],\n",
       "       [  4.60000000e+01,   1.24000000e+02],\n",
       "       [  4.70000000e+01,   9.78560000e+04],\n",
       "       [  4.80000000e+01,   1.00000000e+00],\n",
       "       [  5.00000000e+01,   1.01559000e+05],\n",
       "       [  5.10000000e+01,   5.23690000e+04],\n",
       "       [  5.20000000e+01,   4.78600000e+04],\n",
       "       [  5.30000000e+01,   4.31790000e+04],\n",
       "       [  5.40000000e+01,   3.66220000e+04],\n",
       "       [  5.50000000e+01,   2.94350000e+04],\n",
       "       [  5.60000000e+01,   2.08900000e+04],\n",
       "       [  5.70000000e+01,   1.36960000e+04],\n",
       "       [  5.80000000e+01,   4.67000000e+02],\n",
       "       [  5.90000000e+01,   1.01100000e+03],\n",
       "       [  6.00000000e+01,   1.10000000e+01],\n",
       "       [  6.10000000e+01,   2.92620000e+04],\n",
       "       [  6.20000000e+01,   2.25800000e+04],\n",
       "       [  6.30000000e+01,   8.80470000e+04],\n",
       "       [  6.40000000e+01,   1.00000000e+00],\n",
       "       [  6.70000000e+01,   1.00000000e+00],\n",
       "       [  6.80000000e+01,   1.00000000e+00],\n",
       "       [  7.00000000e+01,   1.00000000e+00],\n",
       "       [  7.10000000e+01,   2.00000000e+00],\n",
       "       [  7.20000000e+01,   1.00000000e+00],\n",
       "       [  7.30000000e+01,   1.00000000e+00],\n",
       "       [  7.50000000e+01,   3.00000000e+00],\n",
       "       [  7.80000000e+01,   2.00000000e+00],\n",
       "       [  8.10000000e+01,   1.00000000e+00],\n",
       "       [  8.70000000e+01,   3.00000000e+00],\n",
       "       [  8.80000000e+01,   1.00000000e+00],\n",
       "       [  9.00000000e+01,   1.00000000e+00],\n",
       "       [  9.20000000e+01,   2.00000000e+00],\n",
       "       [  9.30000000e+01,   1.00000000e+00],\n",
       "       [  9.60000000e+01,   2.00000000e+00],\n",
       "       [  9.90000000e+01,   2.00000000e+00]])"
      ]
     },
     "execution_count": 119,
     "metadata": {},
     "output_type": "execute_result"
    }
   ],
   "source": [
    "a_freq = scipy.stats.itemfreq(X_train['AffinityCodeId'])"
   ]
  },
  {
   "cell_type": "code",
   "execution_count": null,
   "metadata": {
    "collapsed": true
   },
   "outputs": [],
   "source": []
  },
  {
   "cell_type": "code",
   "execution_count": 117,
   "metadata": {
    "collapsed": false
   },
   "outputs": [
    {
     "data": {
      "text/plain": [
       "array([[    0,     4],\n",
       "       [    1,    70],\n",
       "       [    2, 14778],\n",
       "       [    3,    58],\n",
       "       [    7,  1037],\n",
       "       [    8,  2855],\n",
       "       [    9,   157],\n",
       "       [   10,   797],\n",
       "       [   11,  1168],\n",
       "       [   12,   767],\n",
       "       [   13,   212],\n",
       "       [   15,   675],\n",
       "       [   16,   122]], dtype=int64)"
      ]
     },
     "execution_count": 117,
     "metadata": {},
     "output_type": "execute_result"
    }
   ],
   "source": [
    "scipy.stats.itemfreq(np.array(X_train['NameOfPolicyProduct'])[np.array(X_train['labels']==1)] )"
   ]
  },
  {
   "cell_type": "code",
   "execution_count": 118,
   "metadata": {
    "collapsed": false
   },
   "outputs": [
    {
     "data": {
      "text/plain": [
       "array([[      0,       4],\n",
       "       [      1,      70],\n",
       "       [      2, 1596057],\n",
       "       [      3,   28486],\n",
       "       [      4,     169],\n",
       "       [      5,     165],\n",
       "       [      6,     167],\n",
       "       [      7,  312613],\n",
       "       [      8,    4947],\n",
       "       [      9,   19904],\n",
       "       [     10,  327289],\n",
       "       [     11,  372205],\n",
       "       [     12,   98402],\n",
       "       [     13,   98108],\n",
       "       [     14,   22580],\n",
       "       [     15,     845],\n",
       "       [     16,   29259]], dtype=int64)"
      ]
     },
     "execution_count": 118,
     "metadata": {},
     "output_type": "execute_result"
    }
   ],
   "source": [
    "scipy.stats.itemfreq(np.array(X_train['NameOfPolicyProduct']))"
   ]
  },
  {
   "cell_type": "code",
   "execution_count": 101,
   "metadata": {
    "collapsed": false
   },
   "outputs": [
    {
     "data": {
      "text/plain": [
       "Index([u'CustomerMD5Key', u'SCID', u'FirstDriverMaritalStatus',\n",
       "       u'CarAnnualMileage', u'CarFuelId', u'CarUsageId', u'FirstDriverAge',\n",
       "       u'CarInsuredValue', u'CarAge', u'FirstDriverDrivingLicenseNumberY',\n",
       "       u'VoluntaryExcess', u'CarParkingTypeId',\n",
       "       u'PolicyHolderNoClaimDiscountYears', u'FirstDriverDrivingLicenceType',\n",
       "       u'CoverIsNoClaimDiscountSelected', u'CarDrivingEntitlement',\n",
       "       u'CarTransmissionId', u'SocioDemographicId',\n",
       "       u'PolicyHolderResidencyArea', u'AllDriversNbConvictions',\n",
       "       u'RatedDriverNumber', u'IsPolicyholderAHomeowner', u'CarMakeId',\n",
       "       u'DaysSinceCarPurchase', u'NameOfPolicyProduct', u'AffinityCodeId',\n",
       "       u'labels'],\n",
       "      dtype='object')"
      ]
     },
     "execution_count": 101,
     "metadata": {},
     "output_type": "execute_result"
    }
   ],
   "source": [
    "X_train.columns"
   ]
  },
  {
   "cell_type": "code",
   "execution_count": null,
   "metadata": {
    "collapsed": true
   },
   "outputs": [],
   "source": [
    "X, y = check.ix[:, check.columns != 'labels'] , check['labels']\n",
    "X = StandardScaler().fit_transform(X)\n",
    "print \"done preprocessing\"\n",
    "\n",
    "clf = AdaBoostClassifier()\n",
    "#score = sklearn.cross_validation.cross_val_score(clf, X, y, cv=10, n_jobs=5)\n",
    "#print np.mean(score)\n",
    "X_train_1, X_test_1, y_train_1, y_test_1  = train_test_split(X, y, test_size=.20)\n",
    "clf.fit(X_train_1,y_train_1)\n",
    "predictions = clf.predict(X_test_1)\n",
    "sklearn.metrics.confusion_matrix(y_test_1, predictions)"
   ]
  }
 ],
 "metadata": {
  "kernelspec": {
   "display_name": "Python 2",
   "language": "python",
   "name": "python2"
  },
  "language_info": {
   "codemirror_mode": {
    "name": "ipython",
    "version": 2
   },
   "file_extension": ".py",
   "mimetype": "text/x-python",
   "name": "python",
   "nbconvert_exporter": "python",
   "pygments_lexer": "ipython2",
   "version": "2.7.11"
  }
 },
 "nbformat": 4,
 "nbformat_minor": 0
}
